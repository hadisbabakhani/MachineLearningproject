{
  "cells": [
    {
      "cell_type": "markdown",
      "metadata": {
        "id": "view-in-github",
        "colab_type": "text"
      },
      "source": [
        "<a href=\"https://colab.research.google.com/github/hadisbabakhani/MachineLearningproject/blob/main/applied_ml.ipynb\" target=\"_parent\"><img src=\"https://colab.research.google.com/assets/colab-badge.svg\" alt=\"Open In Colab\"/></a>"
      ]
    },
    {
      "cell_type": "markdown",
      "metadata": {
        "id": "PnvYhMg98PD1"
      },
      "source": [
        "# Hadis B.\n"
      ]
    },
    {
      "cell_type": "markdown",
      "metadata": {
        "id": "h88I3M-N8Y7T"
      },
      "source": [
        "# Applied Machine Learning COMP1804"
      ]
    },
    {
      "cell_type": "markdown",
      "metadata": {
        "id": "ZojPV8H_8gBO"
      },
      "source": [
        "### Load Data"
      ]
    },
    {
      "cell_type": "code",
      "execution_count": null,
      "metadata": {
        "colab": {
          "background_save": true
        },
        "id": "40yqoCiZhLp1"
      },
      "outputs": [],
      "source": [
        "import pandas as pd\n",
        "import numpy as np\n",
        "import matplotlib.pyplot as plt\n",
        "from IPython.display import HTML\n",
        "from sklearn.impute import SimpleImputer\n",
        "from google.colab import files\n",
        "\n",
        "def pretty_print_df(value_counts_):\n",
        "  \"Quick function to display value counts more nicely\"\n",
        "  display(HTML(pd.DataFrame(value_counts_).to_html()))\n",
        "\n"
      ]
    },
    {
      "cell_type": "code",
      "execution_count": null,
      "metadata": {
        "colab": {
          "background_save": true
        },
        "id": "b5c5l3R9bZJS",
        "outputId": "02f6ac0f-9518-4a19-cbe4-8ffbff4e0247"
      },
      "outputs": [
        {
          "data": {
            "text/html": [
              "\n",
              "     <input type=\"file\" id=\"files-eb1e1af3-9ad0-413b-ab88-4f7759e71139\" name=\"files[]\" multiple disabled\n",
              "        style=\"border:none\" />\n",
              "     <output id=\"result-eb1e1af3-9ad0-413b-ab88-4f7759e71139\">\n",
              "      Upload widget is only available when the cell has been executed in the\n",
              "      current browser session. Please rerun this cell to enable.\n",
              "      </output>\n",
              "      <script>// Copyright 2017 Google LLC\n",
              "//\n",
              "// Licensed under the Apache License, Version 2.0 (the \"License\");\n",
              "// you may not use this file except in compliance with the License.\n",
              "// You may obtain a copy of the License at\n",
              "//\n",
              "//      http://www.apache.org/licenses/LICENSE-2.0\n",
              "//\n",
              "// Unless required by applicable law or agreed to in writing, software\n",
              "// distributed under the License is distributed on an \"AS IS\" BASIS,\n",
              "// WITHOUT WARRANTIES OR CONDITIONS OF ANY KIND, either express or implied.\n",
              "// See the License for the specific language governing permissions and\n",
              "// limitations under the License.\n",
              "\n",
              "/**\n",
              " * @fileoverview Helpers for google.colab Python module.\n",
              " */\n",
              "(function(scope) {\n",
              "function span(text, styleAttributes = {}) {\n",
              "  const element = document.createElement('span');\n",
              "  element.textContent = text;\n",
              "  for (const key of Object.keys(styleAttributes)) {\n",
              "    element.style[key] = styleAttributes[key];\n",
              "  }\n",
              "  return element;\n",
              "}\n",
              "\n",
              "// Max number of bytes which will be uploaded at a time.\n",
              "const MAX_PAYLOAD_SIZE = 100 * 1024;\n",
              "\n",
              "function _uploadFiles(inputId, outputId) {\n",
              "  const steps = uploadFilesStep(inputId, outputId);\n",
              "  const outputElement = document.getElementById(outputId);\n",
              "  // Cache steps on the outputElement to make it available for the next call\n",
              "  // to uploadFilesContinue from Python.\n",
              "  outputElement.steps = steps;\n",
              "\n",
              "  return _uploadFilesContinue(outputId);\n",
              "}\n",
              "\n",
              "// This is roughly an async generator (not supported in the browser yet),\n",
              "// where there are multiple asynchronous steps and the Python side is going\n",
              "// to poll for completion of each step.\n",
              "// This uses a Promise to block the python side on completion of each step,\n",
              "// then passes the result of the previous step as the input to the next step.\n",
              "function _uploadFilesContinue(outputId) {\n",
              "  const outputElement = document.getElementById(outputId);\n",
              "  const steps = outputElement.steps;\n",
              "\n",
              "  const next = steps.next(outputElement.lastPromiseValue);\n",
              "  return Promise.resolve(next.value.promise).then((value) => {\n",
              "    // Cache the last promise value to make it available to the next\n",
              "    // step of the generator.\n",
              "    outputElement.lastPromiseValue = value;\n",
              "    return next.value.response;\n",
              "  });\n",
              "}\n",
              "\n",
              "/**\n",
              " * Generator function which is called between each async step of the upload\n",
              " * process.\n",
              " * @param {string} inputId Element ID of the input file picker element.\n",
              " * @param {string} outputId Element ID of the output display.\n",
              " * @return {!Iterable<!Object>} Iterable of next steps.\n",
              " */\n",
              "function* uploadFilesStep(inputId, outputId) {\n",
              "  const inputElement = document.getElementById(inputId);\n",
              "  inputElement.disabled = false;\n",
              "\n",
              "  const outputElement = document.getElementById(outputId);\n",
              "  outputElement.innerHTML = '';\n",
              "\n",
              "  const pickedPromise = new Promise((resolve) => {\n",
              "    inputElement.addEventListener('change', (e) => {\n",
              "      resolve(e.target.files);\n",
              "    });\n",
              "  });\n",
              "\n",
              "  const cancel = document.createElement('button');\n",
              "  inputElement.parentElement.appendChild(cancel);\n",
              "  cancel.textContent = 'Cancel upload';\n",
              "  const cancelPromise = new Promise((resolve) => {\n",
              "    cancel.onclick = () => {\n",
              "      resolve(null);\n",
              "    };\n",
              "  });\n",
              "\n",
              "  // Wait for the user to pick the files.\n",
              "  const files = yield {\n",
              "    promise: Promise.race([pickedPromise, cancelPromise]),\n",
              "    response: {\n",
              "      action: 'starting',\n",
              "    }\n",
              "  };\n",
              "\n",
              "  cancel.remove();\n",
              "\n",
              "  // Disable the input element since further picks are not allowed.\n",
              "  inputElement.disabled = true;\n",
              "\n",
              "  if (!files) {\n",
              "    return {\n",
              "      response: {\n",
              "        action: 'complete',\n",
              "      }\n",
              "    };\n",
              "  }\n",
              "\n",
              "  for (const file of files) {\n",
              "    const li = document.createElement('li');\n",
              "    li.append(span(file.name, {fontWeight: 'bold'}));\n",
              "    li.append(span(\n",
              "        `(${file.type || 'n/a'}) - ${file.size} bytes, ` +\n",
              "        `last modified: ${\n",
              "            file.lastModifiedDate ? file.lastModifiedDate.toLocaleDateString() :\n",
              "                                    'n/a'} - `));\n",
              "    const percent = span('0% done');\n",
              "    li.appendChild(percent);\n",
              "\n",
              "    outputElement.appendChild(li);\n",
              "\n",
              "    const fileDataPromise = new Promise((resolve) => {\n",
              "      const reader = new FileReader();\n",
              "      reader.onload = (e) => {\n",
              "        resolve(e.target.result);\n",
              "      };\n",
              "      reader.readAsArrayBuffer(file);\n",
              "    });\n",
              "    // Wait for the data to be ready.\n",
              "    let fileData = yield {\n",
              "      promise: fileDataPromise,\n",
              "      response: {\n",
              "        action: 'continue',\n",
              "      }\n",
              "    };\n",
              "\n",
              "    // Use a chunked sending to avoid message size limits. See b/62115660.\n",
              "    let position = 0;\n",
              "    do {\n",
              "      const length = Math.min(fileData.byteLength - position, MAX_PAYLOAD_SIZE);\n",
              "      const chunk = new Uint8Array(fileData, position, length);\n",
              "      position += length;\n",
              "\n",
              "      const base64 = btoa(String.fromCharCode.apply(null, chunk));\n",
              "      yield {\n",
              "        response: {\n",
              "          action: 'append',\n",
              "          file: file.name,\n",
              "          data: base64,\n",
              "        },\n",
              "      };\n",
              "\n",
              "      let percentDone = fileData.byteLength === 0 ?\n",
              "          100 :\n",
              "          Math.round((position / fileData.byteLength) * 100);\n",
              "      percent.textContent = `${percentDone}% done`;\n",
              "\n",
              "    } while (position < fileData.byteLength);\n",
              "  }\n",
              "\n",
              "  // All done.\n",
              "  yield {\n",
              "    response: {\n",
              "      action: 'complete',\n",
              "    }\n",
              "  };\n",
              "}\n",
              "\n",
              "scope.google = scope.google || {};\n",
              "scope.google.colab = scope.google.colab || {};\n",
              "scope.google.colab._files = {\n",
              "  _uploadFiles,\n",
              "  _uploadFilesContinue,\n",
              "};\n",
              "})(self);\n",
              "</script> "
            ],
            "text/plain": [
              "<IPython.core.display.HTML object>"
            ]
          },
          "metadata": {},
          "output_type": "display_data"
        }
      ],
      "source": [
        "uploaded = files.upload() # Will prompt you to select file\n",
        "\n",
        "df = pd.read_csv('OPTION1_uk_road_accident_2019_coursework_final.csv')"
      ]
    },
    {
      "cell_type": "markdown",
      "metadata": {
        "id": "pU8jQhQJ88rC"
      },
      "source": [
        "### Exploratory Data Analysis"
      ]
    },
    {
      "cell_type": "code",
      "execution_count": null,
      "metadata": {
        "id": "Su9Jr9suW7qN"
      },
      "outputs": [],
      "source": [
        "print(df.shape)"
      ]
    },
    {
      "cell_type": "code",
      "execution_count": null,
      "metadata": {
        "id": "STgQKDxWW_s9"
      },
      "outputs": [],
      "source": [
        "print(df.columns)"
      ]
    },
    {
      "cell_type": "code",
      "execution_count": null,
      "metadata": {
        "id": "OVtisrGJXHos"
      },
      "outputs": [],
      "source": [
        "print(df.dtypes)"
      ]
    },
    {
      "cell_type": "code",
      "execution_count": null,
      "metadata": {
        "id": "Qh7SKX2LXYWr"
      },
      "outputs": [],
      "source": [
        "df.head(20)"
      ]
    },
    {
      "cell_type": "code",
      "execution_count": null,
      "metadata": {
        "id": "bvKPvheyXpkx"
      },
      "outputs": [],
      "source": [
        "df.describe()"
      ]
    },
    {
      "cell_type": "code",
      "execution_count": null,
      "metadata": {
        "id": "V6X-hiINnhnS"
      },
      "outputs": [],
      "source": [
        "from sklearn.preprocessing import StandardScaler\n",
        "from sklearn.decomposition import PCA\n",
        "\n",
        "# Select numerical columns\n",
        "numerical_columns = ['speed_limit', 'age_of_oldest_driver']\n",
        "\n",
        "# Standardize numerical columns\n",
        "scaler = StandardScaler()\n",
        "df_numerical = df[numerical_columns]\n",
        "df_numerical_std = scaler.fit_transform(df_numerical)\n",
        "\n",
        "# Perform PCA\n",
        "pca = PCA(n_components=2)\n",
        "pca.fit(df_numerical_std)\n",
        "\n",
        "# Transform data using the PCA model\n",
        "df_pca = pca.transform(df_numerical_std)\n",
        "\n",
        "# Create a new DataFrame with the transformed data\n",
        "df_pca = pd.DataFrame(df_pca, columns=['PC1', 'PC2'])\n",
        "\n",
        "# Visualize the transformed data using a scatter plot\n",
        "import matplotlib.pyplot as plt\n",
        "plt.scatter(df_pca['PC1'], df_pca['PC2'])\n",
        "plt.xlabel('Principal Component 1')\n",
        "plt.ylabel('Principal Component 2')\n",
        "plt.show()\n"
      ]
    },
    {
      "cell_type": "code",
      "execution_count": null,
      "metadata": {
        "id": "xtPwU0FfX6TY"
      },
      "outputs": [],
      "source": [
        "# let's list all categorical features\n",
        "categorical_columns= ['light_conditions','weather_conditions','road_surface_conditions', 'vehicle_type','junction_location','skidding_and_overturning','vehicle_leaving_carriageway','hit_object_off_carriageway','first_point_of_impact','sex_of_driver','accident_severity']\n",
        "\n",
        "# let's get the categories and their count for each feature\n",
        "for col in categorical_columns:\n",
        "  print(f\"Categories and number of occurrences for '{col}'\")\n",
        "  pretty_print_df(df[col].value_counts())\n",
        "  print()\n",
        "\n",
        "\n"
      ]
    },
    {
      "cell_type": "code",
      "execution_count": null,
      "metadata": {
        "id": "DJxY_ckcc8TJ"
      },
      "outputs": [],
      "source": [
        "df.loc[df.accident_severity=='slight','accident_severity'] = 'Slight'\n",
        "df.loc[df.accident_severity=='fatal','accident_severity'] = 'Fatal'\n",
        "df.loc[df.accident_severity=='serious','accident_severity'] = 'Serious'"
      ]
    },
    {
      "cell_type": "code",
      "execution_count": null,
      "metadata": {
        "id": "ujaYkSv3f4P4"
      },
      "outputs": [],
      "source": [
        "df.loc[df.speed_limit<0,'speed_limit'] = np.nan\n",
        "df.loc[df.age_of_oldest_driver<0,'age_of_oldest_driver'] = np.nan\n"
      ]
    },
    {
      "cell_type": "code",
      "execution_count": null,
      "metadata": {
        "id": "nQO-kNcLkGLc"
      },
      "outputs": [],
      "source": [
        "df.isna().sum()"
      ]
    },
    {
      "cell_type": "code",
      "execution_count": null,
      "metadata": {
        "id": "Peuiy1ElCHRX"
      },
      "outputs": [],
      "source": [
        "df_no_nans =  df.copy()\n",
        "\n",
        "# 1. Imputer\n",
        "imptr_num = SimpleImputer(missing_values = np.nan, strategy = 'mean')\n",
        "\n",
        "\n",
        "# 2. Fit the imputer object to the feature matrix (only for numeric features)\n",
        "numerical_columns = ['age_of_oldest_driver']\n",
        "imptr_num = imptr_num.fit(df_no_nans[numerical_columns]) # fit the data to estimate the parameters (here, the average value)\n",
        "\n",
        "# 3. Call Transform to replace missing data in train_dataset (on specific columns) by the mean of the column to which that missing data belongs to\n",
        "df_no_nans[numerical_columns] = \\\n",
        "  imptr_num.transform(df_no_nans[numerical_columns]) # apply the transformation using the parameters estimated above\n",
        "\n",
        "# note column ApplicantIncome in the first row --> before it was a missing value!\n",
        "df_no_nans\n"
      ]
    },
    {
      "cell_type": "code",
      "execution_count": null,
      "metadata": {
        "id": "34xGewZFDvel"
      },
      "outputs": [],
      "source": [
        "df_no_nans.isna().sum()"
      ]
    },
    {
      "cell_type": "code",
      "execution_count": null,
      "metadata": {
        "id": "Ohr8EGugE4Z_"
      },
      "outputs": [],
      "source": [
        "# 1. Imputer\n",
        "imptr_empl = SimpleImputer(missing_values = np.nan, strategy = 'most_frequent')\n",
        "\n",
        "# 2. Fit the imputer object to the feature matrix\n",
        "imptr_empl = imptr_empl.fit(df_no_nans[['accident_severity']])\n",
        "\n",
        "# 3. Call Transform to replace missing data in train_dataset (on specific columns) by the mean of the column to which that missing data belongs to\n",
        "df_no_nans[['accident_severity']] = imptr_empl.transform(df_no_nans[['accident_severity']])\n"
      ]
    },
    {
      "cell_type": "code",
      "execution_count": null,
      "metadata": {
        "id": "UjP0O6SJFaGF"
      },
      "outputs": [],
      "source": [
        "df_no_nans = df_no_nans.dropna()"
      ]
    },
    {
      "cell_type": "code",
      "execution_count": null,
      "metadata": {
        "id": "bG09yQbxRmjK"
      },
      "outputs": [],
      "source": [
        "df_no_nans.isna().sum()"
      ]
    },
    {
      "cell_type": "code",
      "execution_count": null,
      "metadata": {
        "id": "6cN_9mIxGYRQ"
      },
      "outputs": [],
      "source": [
        "df_no_nans.loc[df_no_nans.accident_severity=='slight','accident_severity'] = 'Slight'\n",
        "df_no_nans.loc[df_no_nans.accident_severity=='fatal','accident_severity'] = 'Fatal'\n",
        "df_no_nans.loc[df_no_nans.accident_severity=='serious','accident_severity'] = 'Serious'"
      ]
    },
    {
      "cell_type": "code",
      "execution_count": null,
      "metadata": {
        "id": "OP1-AQAUFj30"
      },
      "outputs": [],
      "source": [
        "for col in categorical_columns:\n",
        "  print(f\"Categories and number of occurrences for '{col}'\")\n",
        "  pretty_print_df(df_no_nans[col].value_counts())\n",
        "  print()\n"
      ]
    },
    {
      "cell_type": "code",
      "execution_count": null,
      "metadata": {
        "id": "8lGQgM2tIPd_"
      },
      "outputs": [],
      "source": [
        "# remove all rows where Married is No or NaN.\n",
        "# This condition is equivalent to keeping all the rows where Married is Yes\n",
        "# So, we can filter the dataframe by only keeping those rows that satisfy the condition above\n",
        "# df_no_nans.drop(df_no_nans[df_no_nans[\"weather_conditions\"] == \"data missing or out of range\"],axis=0)\n",
        "# print(df_no_nans[df_no_nans[\"weather_conditions\"] == \"data missing or out of range\"])\n",
        "print(df_no_nans.head(100))\n",
        "df_no_nans\n",
        "for col in categorical_columns:\n",
        "  print(f\"Categories and number of occurrences for '{col}'\")\n",
        "  pretty_print_df(df_no_nans[col].value_counts())\n",
        "  print()\n",
        "\n"
      ]
    },
    {
      "cell_type": "code",
      "execution_count": null,
      "metadata": {
        "id": "UiU5DzpoL47M"
      },
      "outputs": [],
      "source": [
        "# print(df_no_nans[df_no_nans[\"weather_conditions\"] == \"data missing or out of range\"])\n",
        "\n",
        "df_no_nans = df_no_nans[df_no_nans.weather_conditions != \"data missing or out of range\"]\n",
        "\n",
        "for col in categorical_columns:\n",
        "  print(f\"Categories and number of occurrences for '{col}'\")\n",
        "  pretty_print_df(df_no_nans[col].value_counts())\n",
        "  print()\n"
      ]
    },
    {
      "cell_type": "code",
      "execution_count": null,
      "metadata": {
        "id": "8Mg93x4-RAbW"
      },
      "outputs": [],
      "source": [
        "df_no_nans.describe()"
      ]
    },
    {
      "cell_type": "code",
      "execution_count": null,
      "metadata": {
        "id": "SBwpecaPR7_K"
      },
      "outputs": [],
      "source": [
        "df_no_nans = df_no_nans[df_no_nans.road_surface_conditions != \"data missing or out of range\"]\n",
        "\n",
        "\n",
        "for col in categorical_columns:\n",
        "  print(f\"Categories and number of occurrences for '{col}'\")\n",
        "  pretty_print_df(df_no_nans[col].value_counts())\n",
        "  print()\n",
        "\n",
        "df_no_nans.describe()\n"
      ]
    },
    {
      "cell_type": "code",
      "execution_count": null,
      "metadata": {
        "id": "s5nbIVpsSiAA"
      },
      "outputs": [],
      "source": [
        "df_no_nans = df_no_nans[df_no_nans.vehicle_type != \"data missing or out of range\"]\n",
        "\n",
        "for col in categorical_columns:\n",
        "  print(f\"Categories and number of occurrences for '{col}'\")\n",
        "  pretty_print_df(df_no_nans[col].value_counts())\n",
        "  print()\n"
      ]
    },
    {
      "cell_type": "code",
      "execution_count": null,
      "metadata": {
        "id": "jXV0DCMHUG_5"
      },
      "outputs": [],
      "source": [
        "df_no_nans = df_no_nans[df_no_nans.skidding_and_overturning != \"data missing or out of range\"]\n",
        "\n",
        "for col in categorical_columns:\n",
        "  print(f\"Categories and number of occurrences for '{col}'\")\n",
        "  pretty_print_df(df_no_nans[col].value_counts())\n",
        "  print()\n"
      ]
    },
    {
      "cell_type": "code",
      "execution_count": null,
      "metadata": {
        "id": "C4Fwb91AV92q"
      },
      "outputs": [],
      "source": [
        "df_no_nans.describe()"
      ]
    },
    {
      "cell_type": "code",
      "execution_count": null,
      "metadata": {
        "id": "oKBe5N7IbwGt"
      },
      "outputs": [],
      "source": [
        "df_no_nans.loc[df_no_nans.sex_of_driver=='data missing or out of range','sex_of_driver'] = 'N/A'\n",
        "for col in categorical_columns:\n",
        "  print(f\"Categories and number of occurrences for '{col}'\")\n",
        "  pretty_print_df(df_no_nans[col].value_counts())\n",
        "  print()\n"
      ]
    },
    {
      "cell_type": "code",
      "execution_count": null,
      "metadata": {
        "id": "aiAVDspvcyWK"
      },
      "outputs": [],
      "source": [
        "df_no_nans = df_no_nans[df_no_nans.first_point_of_impact != \"data missing or out of range\"]\n",
        "\n",
        "for col in categorical_columns:\n",
        "  print(f\"Categories and number of occurrences for '{col}'\")\n",
        "  pretty_print_df(df_no_nans[col].value_counts())\n",
        "  print()\n"
      ]
    },
    {
      "cell_type": "code",
      "execution_count": null,
      "metadata": {
        "id": "u7xr9qXxdB9y"
      },
      "outputs": [],
      "source": [
        "df_no_nans = df_no_nans[df_no_nans.vehicle_leaving_carriageway != \"data missing or out of range\"]\n",
        "\n",
        "for col in categorical_columns:\n",
        "  print(f\"Categories and number of occurrences for '{col}'\")\n",
        "  pretty_print_df(df_no_nans[col].value_counts())\n",
        "  print()\n"
      ]
    },
    {
      "cell_type": "code",
      "execution_count": null,
      "metadata": {
        "id": "YyU-EzcVdM8x"
      },
      "outputs": [],
      "source": [
        "df_no_nans = df_no_nans[df_no_nans.hit_object_off_carriageway != \"data missing or out of range\"]\n",
        "\n",
        "for col in categorical_columns:\n",
        "  print(f\"Categories and number of occurrences for '{col}'\")\n",
        "  pretty_print_df(df_no_nans[col].value_counts())\n",
        "  print()"
      ]
    },
    {
      "cell_type": "code",
      "execution_count": null,
      "metadata": {
        "id": "n7vJHb33dcqH"
      },
      "outputs": [],
      "source": [
        "df_no_nans.describe()"
      ]
    },
    {
      "cell_type": "code",
      "execution_count": null,
      "metadata": {
        "id": "cSYDCbq3eieO"
      },
      "outputs": [],
      "source": [
        "df_no_nans.isna().sum()"
      ]
    },
    {
      "cell_type": "code",
      "execution_count": null,
      "metadata": {
        "id": "zxgRxj67m6fL"
      },
      "outputs": [],
      "source": [
        "features=df_no_nans[['light_conditions','weather_conditions','road_surface_conditions', 'vehicle_type','junction_location','skidding_and_overturning','vehicle_leaving_carriageway','hit_object_off_carriageway','first_point_of_impact','sex_of_driver','age_of_oldest_driver','speed_limit']]\n",
        "labels=df_no_nans[['accident_severity']]\n",
        "print(features)\n",
        "print(labels)\n"
      ]
    },
    {
      "cell_type": "code",
      "execution_count": null,
      "metadata": {
        "id": "nDN3nSKFu72I"
      },
      "outputs": [],
      "source": [
        "from sklearn.model_selection import train_test_split\n",
        "\n",
        "\n",
        "train_dataset, test_dataset, train_labels, test_labels = train_test_split(features, labels, test_size= 0.2)\n",
        "print(train_dataset.shape)\n",
        "print(test_dataset.shape)\n",
        "print(train_labels.shape)\n",
        "print(test_labels.shape)\n",
        "# shape of output:\n",
        "# The number or rows is the number of data points (should be the same as before!)\n",
        "# The number or columns is the number of labels we want to predict\n",
        "\n"
      ]
    },
    {
      "cell_type": "markdown",
      "metadata": {
        "id": "8jxwcYF69i_I"
      },
      "source": [
        "### Data Pre Processing"
      ]
    },
    {
      "cell_type": "code",
      "execution_count": null,
      "metadata": {
        "id": "slv6K-KGzkAT"
      },
      "outputs": [],
      "source": [
        "from sklearn.compose import ColumnTransformer\n",
        "from sklearn.preprocessing import OneHotEncoder\n",
        "\n",
        "categorical_columns= ['light_conditions','weather_conditions','road_surface_conditions', 'vehicle_type','junction_location','skidding_and_overturning','vehicle_leaving_carriageway','hit_object_off_carriageway','first_point_of_impact','sex_of_driver']\n",
        "\n",
        "# define the transformation\n",
        "# ColumnTransformer takes a list of transformations. Each transformation is expressed\n",
        "# as a tuple (name, transformer, columns).\n",
        "ct_cat = ColumnTransformer(\n",
        "    [\n",
        "        (\n",
        "            \"onehot_categorical\", # --> name of the transformation\n",
        "            OneHotEncoder(), # --> main function to apply\n",
        "            categorical_columns, #-->columns to apply it to (we can give more than one column at once!)\n",
        "        ),\n",
        "    ],\n",
        "    remainder=\"passthrough\", #--> what to do with the non-transformed columns. passthrough=keep them\n",
        "    verbose_feature_names_out=False #--> this keeps columns names simple. Try what happens if you set it as True\n",
        ")\n",
        "\n",
        "# the output is an NUMPY ARRAY with the encoded columns.\n",
        "encoded_array= ct_cat.fit_transform(train_dataset)\n",
        "\n",
        "# What if we want a dataframe back? We can combine the array with the info about\n",
        "# the original and transformed column names.\n",
        "# This is stored in the ColumnTransformer object, which we called \"ct\"\n",
        "# We can access it via the \"get_feature_names_out()\" attribute like this:\n",
        "encoded_col_names= ct_cat.get_feature_names_out() #remember python's dot notation\n",
        "print(encoded_col_names) #note the combined name: original column + category (e.g. Gender_Female)\n",
        "\n",
        "train_dataset = pd.DataFrame(encoded_array, columns=encoded_col_names)\n",
        "\n"
      ]
    },
    {
      "cell_type": "code",
      "execution_count": null,
      "metadata": {
        "id": "C_CjVIOpUWWf"
      },
      "outputs": [],
      "source": [
        "from sklearn.compose import ColumnTransformer\n",
        "from sklearn.preprocessing import OneHotEncoder\n",
        "\n",
        "categorical_columns= ['light_conditions','weather_conditions','road_surface_conditions', 'vehicle_type','junction_location','skidding_and_overturning','vehicle_leaving_carriageway','hit_object_off_carriageway','first_point_of_impact','sex_of_driver']\n",
        "\n",
        "# define the transformation\n",
        "# ColumnTransformer takes a list of transformations. Each transformation is expressed\n",
        "# as a tuple (name, transformer, columns).\n",
        "ct_cat = ColumnTransformer(\n",
        "    [\n",
        "        (\n",
        "            \"onehot_categorical\", # --> name of the transformation\n",
        "            OneHotEncoder(), # --> main function to apply\n",
        "            categorical_columns, #-->columns to apply it to (we can give more than one column at once!)\n",
        "        ),\n",
        "    ],\n",
        "    remainder=\"passthrough\", #--> what to do with the non-transformed columns. passthrough=keep them\n",
        "    verbose_feature_names_out=False #--> this keeps columns names simple. Try what happens if you set it as True\n",
        ")\n",
        "\n",
        "# the output is an NUMPY ARRAY with the encoded columns.\n",
        "encoded_array= ct_cat.fit_transform(test_dataset)\n",
        "\n",
        "# What if we want a dataframe back? We can combine the array with the info about\n",
        "# the original and transformed column names.\n",
        "# This is stored in the ColumnTransformer object, which we called \"ct\"\n",
        "# We can access it via the \"get_feature_names_out()\" attribute like this:\n",
        "encoded_col_names= ct_cat.get_feature_names_out() #remember python's dot notation\n",
        "print(encoded_col_names) #note the combined name: original column + category (e.g. Gender_Female)\n",
        "\n",
        "test_dataset = pd.DataFrame(encoded_array, columns=encoded_col_names)\n"
      ]
    },
    {
      "cell_type": "code",
      "execution_count": null,
      "metadata": {
        "id": "n2M98FKwnvAb"
      },
      "outputs": [],
      "source": [
        "from sklearn.preprocessing import LabelEncoder\n",
        "\n",
        "# create an object of the LabelEncoder class\n",
        "lblEncoder_Y = LabelEncoder()\n",
        "\n",
        "# apply LblEncoder object to our target variables\n",
        "train_encoded_labels = lblEncoder_Y.fit_transform(train_labels['accident_severity'])\n",
        "\n",
        "for i in range(0,10):\n",
        "  print(train_encoded_labels[i])\n",
        "\n",
        "print(train_labels.head(10))\n",
        "# print(train_encoded_labels.head(20))\n"
      ]
    },
    {
      "cell_type": "code",
      "execution_count": null,
      "metadata": {
        "id": "GQLpefPwR1D8"
      },
      "outputs": [],
      "source": [
        "# create an object of the LabelEncoder class\n",
        "lblEncoder_Y = LabelEncoder()\n",
        "\n",
        "# apply LblEncoder object to our target variables\n",
        "test_encoded_labels = lblEncoder_Y.fit_transform(test_labels['accident_severity'])\n",
        "\n",
        "for i in range(0,10):\n",
        "  print(test_encoded_labels[i])\n",
        "\n",
        "print(test_labels.head(10))\n",
        "# print(train_encoded_labels.head(20))\n"
      ]
    },
    {
      "cell_type": "code",
      "execution_count": null,
      "metadata": {
        "id": "oPjN0Sh5q1gV"
      },
      "outputs": [],
      "source": [
        "# create the Scaling object\n",
        "from sklearn.preprocessing import StandardScaler\n",
        "my_scaler_num = StandardScaler()\n",
        "numerical_columns = ['age_of_oldest_driver','speed_limit']\n",
        "\n",
        "# fit and transform the appropriate columns in the training data\n",
        "train_dataset[numerical_columns]= my_scaler_num.fit_transform(train_dataset[numerical_columns])\n",
        "print(train_dataset)\n",
        "\n",
        "# show results\n",
        "print(train_dataset[numerical_columns].head())\n",
        "\n",
        "print(train_dataset.isna().sum())"
      ]
    },
    {
      "cell_type": "code",
      "execution_count": null,
      "metadata": {
        "id": "-txxiCJTSri7"
      },
      "outputs": [],
      "source": [
        "my_scaler_num = StandardScaler()\n",
        "numerical_columns = ['age_of_oldest_driver','speed_limit']\n",
        "\n",
        "# fit and transform the appropriate columns in the training data\n",
        "test_dataset[numerical_columns]= my_scaler_num.fit_transform(test_dataset[numerical_columns])\n",
        "print(test_dataset)\n",
        "\n",
        "# show results\n",
        "print(test_dataset[numerical_columns].head())\n",
        "\n",
        "print(test_dataset.isna().sum())"
      ]
    },
    {
      "cell_type": "markdown",
      "metadata": {
        "id": "puMYBk1x93Oo"
      },
      "source": [
        "### Traditional Machine Learning Algorithms"
      ]
    },
    {
      "cell_type": "code",
      "execution_count": null,
      "metadata": {
        "id": "ZtZicZ19gjul"
      },
      "outputs": [],
      "source": [
        "from sklearn.tree import DecisionTreeClassifier\n",
        "from sklearn.ensemble import RandomForestClassifier\n",
        "from sklearn.svm import LinearSVC\n",
        "from sklearn.neighbors import NearestNeighbors\n",
        "from sklearn.linear_model import SGDClassifier\n",
        "from sklearn.preprocessing import StandardScaler\n",
        "from imblearn.over_sampling import RandomOverSampler, SMOTE\n",
        "from sklearn.pipeline import Pipeline\n",
        "from imblearn.pipeline import Pipeline as ImbPipeline\n",
        "from sklearn.metrics import classification_report\n",
        "from sklearn.metrics import ConfusionMatrixDisplay\n",
        "from sklearn.metrics import accuracy_score, accuracy_score\n",
        "from sklearn.model_selection import GridSearchCV, RandomizedSearchCV\n",
        "from sklearn.tree import DecisionTreeClassifier\n",
        "from sklearn.ensemble import RandomForestClassifier\n",
        "from sklearn.svm import LinearSVC\n",
        "from sklearn.neighbors import NearestNeighbors\n",
        "from scipy import stats\n",
        "from sklearn.metrics import balanced_accuracy_score\n",
        "from time import time as tt"
      ]
    },
    {
      "cell_type": "code",
      "execution_count": null,
      "metadata": {
        "id": "UMN5jS2EMrQ9"
      },
      "outputs": [],
      "source": [
        "print(test_dataset.columns)"
      ]
    },
    {
      "cell_type": "code",
      "execution_count": null,
      "metadata": {
        "id": "zxRyYDwdM0Ns"
      },
      "outputs": [],
      "source": [
        "print(train_dataset.columns)"
      ]
    },
    {
      "cell_type": "code",
      "execution_count": null,
      "metadata": {
        "id": "uZgXUVnFNhQe"
      },
      "outputs": [],
      "source": [
        "from sklearn.neighbors import KNeighborsClassifier\n",
        "from sklearn.metrics import accuracy_score\n",
        "\n",
        "\n",
        "# we will use a classifier (we will skip details and what it does for now, so just use it as it is)\n",
        "knn=KNeighborsClassifier(n_neighbors=18)\n",
        "knn.fit(train_dataset, train_encoded_labels) #train_labels['Target'])\n",
        "## we train the classifier with the training data and labels: train_dataset_no_nans1 should be the training dataframe after:\n",
        "## i) filling in all missing values, ii) encoding all categorical features and (maybe) after feature scaling\n",
        "\n",
        "# Checking the model's accuracy (performance); this should be performed on the test set and thus we use the test_dataset_no_nans and the test labels (after encoding)\n",
        "performance = knn.score(test_dataset, test_encoded_labels)\n",
        "\n",
        "print(f'Performance is {performance:.3f}')"
      ]
    },
    {
      "cell_type": "code",
      "execution_count": null,
      "metadata": {
        "id": "vgMXfSSPfDyr"
      },
      "outputs": [],
      "source": [
        "# KNN\n",
        "from sklearn.neighbors import KNeighborsClassifier\n",
        "from sklearn.metrics import accuracy_score\n",
        "from sklearn.model_selection import cross_val_score\n",
        "\n",
        "# we will use a classifier (we will skip details and what it does for now, so just use it as it is)\n",
        "knn=KNeighborsClassifier(n_neighbors=18)\n",
        "\n",
        "# Evaluate the model with cross-validation\n",
        "scores = cross_val_score(knn, train_dataset, train_encoded_labels, cv=5)\n",
        "\n",
        "# Print the cross-validation scores\n",
        "print(\"Cross-validation scores:\", scores)\n",
        "\n",
        "# Fit the model on the entire training set\n",
        "knn.fit(train_dataset, train_encoded_labels)\n",
        "\n",
        "# Checking the model's accuracy (performance); this should be performed on the test set and thus we use the test_dataset_no_nans and the test labels (after encoding)\n",
        "performance = knn.score(test_dataset, test_encoded_labels)\n",
        "\n",
        "print(f'Performance is {performance:.3f}')"
      ]
    },
    {
      "cell_type": "code",
      "execution_count": null,
      "metadata": {
        "id": "Yb-BEV6WWm5U"
      },
      "outputs": [],
      "source": [
        "# KNN\n",
        "from sklearn.neighbors import KNeighborsClassifier\n",
        "from sklearn.metrics import accuracy_score\n",
        "from sklearn.model_selection import cross_val_score\n",
        "\n",
        "# we will use a classifier (we will skip details and what it does for now, so just use it as it is)\n",
        "knn=KNeighborsClassifier(n_neighbors=25)\n",
        "\n",
        "# Evaluate the model with cross-validation\n",
        "scores = cross_val_score(knn, train_dataset, train_encoded_labels, cv=5)\n",
        "\n",
        "# Print the cross-validation scores\n",
        "print(\"Cross-validation scores:\", scores)\n",
        "\n",
        "# Fit the model on the entire training set\n",
        "knn.fit(train_dataset, train_encoded_labels)\n",
        "\n",
        "# Checking the model's accuracy (performance); this should be performed on the test set and thus we use the test_dataset_no_nans and the test labels (after encoding)\n",
        "performance = knn.score(test_dataset, test_encoded_labels)\n",
        "\n",
        "print(f'Performance is {performance:.3f}')"
      ]
    },
    {
      "cell_type": "code",
      "execution_count": null,
      "metadata": {
        "id": "gnil_rrVYgGX"
      },
      "outputs": [],
      "source": [
        "# KNN\n",
        "from sklearn.neighbors import KNeighborsClassifier\n",
        "from sklearn.metrics import accuracy_score\n",
        "from sklearn.model_selection import cross_val_score\n",
        "\n",
        "# we will use a classifier (we will skip details and what it does for now, so just use it as it is)\n",
        "knn=KNeighborsClassifier(n_neighbors=30)\n",
        "\n",
        "# Evaluate the model with cross-validation\n",
        "scores = cross_val_score(knn, train_dataset, train_encoded_labels, cv=5)\n",
        "\n",
        "# Print the cross-validation scores\n",
        "print(\"Cross-validation scores:\", scores)\n",
        "\n",
        "# Fit the model on the entire training set\n",
        "knn.fit(train_dataset, train_encoded_labels)\n",
        "\n",
        "# Checking the model's accuracy (performance); this should be performed on the test set and thus we use the test_dataset_no_nans and the test labels (after encoding)\n",
        "performance = knn.score(test_dataset, test_encoded_labels)\n",
        "\n",
        "print(f'Performance is {performance:.3f}')"
      ]
    },
    {
      "cell_type": "code",
      "execution_count": null,
      "metadata": {
        "id": "f0Rjb9k6a9mi"
      },
      "outputs": [],
      "source": [
        "# KNN\n",
        "from sklearn.neighbors import KNeighborsClassifier\n",
        "from sklearn.metrics import accuracy_score\n",
        "from sklearn.model_selection import cross_val_score\n",
        "\n",
        "# we will use a classifier (we will skip details and what it does for now, so just use it as it is)\n",
        "knn=KNeighborsClassifier(n_neighbors=37)\n",
        "\n",
        "# Evaluate the model with cross-validation\n",
        "scores = cross_val_score(knn, train_dataset, train_encoded_labels, cv=5)\n",
        "\n",
        "# Print the cross-validation scores\n",
        "print(\"Cross-validation scores:\", scores)\n",
        "\n",
        "# Fit the model on the entire training set\n",
        "knn.fit(train_dataset, train_encoded_labels)\n",
        "\n",
        "# Checking the model's accuracy (performance); this should be performed on the test set and thus we use the test_dataset_no_nans and the test labels (after encoding)\n",
        "performance = knn.score(test_dataset, test_encoded_labels)\n",
        "\n",
        "print(f'Performance is {performance:.3f}')"
      ]
    },
    {
      "cell_type": "code",
      "execution_count": null,
      "metadata": {
        "id": "OARA6YBmOpfg"
      },
      "outputs": [],
      "source": [
        "# Decision Tree\n",
        "\n",
        "from sklearn.tree import DecisionTreeClassifier\n",
        "from sklearn.metrics import accuracy_score\n",
        "\n",
        "# create the classifier\n",
        "dtc = DecisionTreeClassifier()\n",
        "\n",
        "# fit the classifier to the training data\n",
        "dtc.fit(train_dataset, train_encoded_labels)\n",
        "\n",
        "# make predictions on the test data\n",
        "predictions = dtc.predict(test_dataset)\n",
        "\n",
        "# evaluate the performance of the classifier\n",
        "performance = accuracy_score(test_encoded_labels, predictions)\n",
        "\n",
        "print(f'Performance is {performance:.3f}')\n",
        "\n",
        "\n"
      ]
    },
    {
      "cell_type": "code",
      "execution_count": null,
      "metadata": {
        "id": "6BbdQo0aPKla"
      },
      "outputs": [],
      "source": [
        "# Decision tree tune hyperparameter\n",
        "\n",
        "from sklearn.tree import DecisionTreeClassifier\n",
        "from sklearn.model_selection import GridSearchCV\n",
        "from sklearn.metrics import accuracy_score\n",
        "\n",
        "# create the classifier\n",
        "dtc = DecisionTreeClassifier()\n",
        "\n",
        "# define the grid of hyperparameters to search\n",
        "param_grid = {\n",
        "    'criterion': ['gini', 'entropy'],\n",
        "    'max_depth': [None, 5, 10, 20],\n",
        "    'min_samples_split': [2, 5, 10],\n",
        "    'min_samples_leaf': [1, 2, 4]\n",
        "}\n",
        "\n",
        "# perform a grid search over the hyperparameters\n",
        "grid_search = GridSearchCV(dtc, param_grid=param_grid, cv=5)\n",
        "grid_search.fit(train_dataset, train_encoded_labels)\n",
        "\n",
        "# make predictions on the test data using the best estimator found by the grid search\n",
        "best_dtc = grid_search.best_estimator_\n",
        "predictions = best_dtc.predict(test_dataset)\n",
        "\n",
        "# evaluate the performance of the classifier\n",
        "performance = accuracy_score(test_encoded_labels, predictions)\n",
        "\n",
        "print(f'Performance is {performance:.3f}')\n"
      ]
    },
    {
      "cell_type": "code",
      "execution_count": null,
      "metadata": {
        "id": "KogcM_ldP_KR"
      },
      "outputs": [],
      "source": [
        "# Decision tree changed HP\n",
        "\n",
        "from sklearn.tree import DecisionTreeClassifier\n",
        "from sklearn.metrics import accuracy_score\n",
        "\n",
        "# create the classifier with desired hyperparameters\n",
        "dtc = DecisionTreeClassifier(criterion='entropy', max_depth=5, min_samples_split=10, min_samples_leaf=2)\n",
        "\n",
        "# fit the classifier to the training data\n",
        "dtc.fit(train_dataset, train_encoded_labels)\n",
        "\n",
        "# make predictions on the test data\n",
        "predictions = dtc.predict(test_dataset)\n",
        "\n",
        "# evaluate the performance of the classifier\n",
        "performance = accuracy_score(test_encoded_labels, predictions)\n",
        "\n",
        "print(f'Performance is {performance:.3f}')\n"
      ]
    },
    {
      "cell_type": "code",
      "execution_count": null,
      "metadata": {
        "id": "zW4WxICsRuJ8"
      },
      "outputs": [],
      "source": [
        "# Decision tree best params\n",
        "\n",
        "from sklearn.tree import DecisionTreeClassifier\n",
        "from sklearn.model_selection import GridSearchCV\n",
        "\n",
        "# Define the decision tree classifier\n",
        "tree = DecisionTreeClassifier()\n",
        "\n",
        "# Define the hyperparameter space to search\n",
        "param_grid = {\n",
        "    'max_depth': [None, 5, 10, 20],\n",
        "    'min_samples_split': [2, 5, 10],\n",
        "    'min_samples_leaf': [1, 2, 4]\n",
        "}\n",
        "\n",
        "# Define the grid search object\n",
        "grid_search = GridSearchCV(estimator=tree, param_grid=param_grid, cv=5)\n",
        "\n",
        "# Fit the grid search object to the training data\n",
        "grid_search.fit(train_dataset, train_encoded_labels)\n",
        "\n",
        "# Print the best hyperparameters and the corresponding mean cross-validated score\n",
        "print(f\"Best hyperparameters: {grid_search.best_params_}\")\n",
        "print(f\"Best score: {grid_search.best_score_:.3f}\")\n"
      ]
    },
    {
      "cell_type": "code",
      "execution_count": null,
      "metadata": {
        "id": "1qrRXGxZSxur"
      },
      "outputs": [],
      "source": [
        "from sklearn.ensemble import RandomForestClassifier\n",
        "\n",
        "# Define the random forest classifier\n",
        "rf = RandomForestClassifier(n_estimators=100, max_depth=10, min_samples_leaf=2, random_state=42)\n",
        "\n",
        "# Fit the random forest classifier to the training data\n",
        "rf.fit(train_dataset, train_encoded_labels)\n",
        "\n",
        "# Evaluate the performance of the random forest classifier on the test data\n",
        "accuracy = rf.score(test_dataset, test_encoded_labels)\n",
        "print(f\"Random forest accuracy: {accuracy:.3f}\")\n"
      ]
    },
    {
      "cell_type": "code",
      "execution_count": null,
      "metadata": {
        "colab": {
          "background_save": true
        },
        "id": "xLOaVHhDToiI"
      },
      "outputs": [],
      "source": [
        "from sklearn.ensemble import RandomForestClassifier\n",
        "from sklearn.model_selection import GridSearchCV\n",
        "\n",
        "# Define the random forest classifier\n",
        "rf = RandomForestClassifier(random_state=42)\n",
        "\n",
        "# Define the hyperparameter space to search\n",
        "param_grid = {\n",
        "    'n_estimators': [50, 100, 200],\n",
        "    'max_depth': [None, 5, 10, 20],\n",
        "    'min_samples_split': [2, 5, 10],\n",
        "    'min_samples_leaf': [1, 2, 4]\n",
        "}\n",
        "\n",
        "# Define the grid search object\n",
        "grid_search = GridSearchCV(\n",
        "    estimator=rf,\n",
        "    param_grid=param_grid,\n",
        "    cv=5,\n",
        "    n_jobs=-1\n",
        ")\n",
        "\n",
        "# Fit the grid search object to the training data\n",
        "grid_search.fit(train_dataset, train_encoded_labels)\n",
        "\n",
        "# Print the best hyperparameters and the corresponding mean cross-validated score\n",
        "print(f\"Best hyperparameters: {grid_search.best_params_}\")\n",
        "print(f\"Best score: {grid_search.best_score_:.3f}\")\n",
        "\n",
        "# Evaluate the performance of the random forest classifier on the test data using the best hyperparameters\n",
        "rf_best = RandomForestClassifier(**grid_search.best_params_, random_state=42)\n",
        "rf_best.fit(train_dataset, train_encoded_labels)\n",
        "accuracy = rf_best.score(test_dataset, test_encoded_labels)\n",
        "print(f\"Random forest accuracy with best hyperparameters: {accuracy:.3f}\")\n"
      ]
    },
    {
      "cell_type": "code",
      "execution_count": null,
      "metadata": {
        "colab": {
          "background_save": true
        },
        "id": "r2iB6wzUrpXf"
      },
      "outputs": [],
      "source": [
        "from sklearn.svm import SVC\n",
        "from sklearn.metrics import accuracy_score\n",
        "from sklearn.model_selection import cross_val_score\n",
        "\n",
        "# Define the SVM classifier\n",
        "svm = SVC(kernel='linear', C=1.0, random_state=42)\n",
        "\n",
        "# Evaluate the model with cross-validation\n",
        "scores = cross_val_score(svm, train_dataset, train_encoded_labels, cv=5)\n",
        "\n",
        "# Print the cross-validation scores\n",
        "print(\"Cross-validation scores:\", scores)\n",
        "\n",
        "# Fit the model on the entire training set\n",
        "svm.fit(train_dataset, train_encoded_labels)\n",
        "\n",
        "# Checking the model's accuracy (performance) on the test set\n",
        "performance = svm.score(test_dataset, test_encoded_labels)\n",
        "\n",
        "print(f'Performance is {performance:.3f}')\n"
      ]
    },
    {
      "cell_type": "code",
      "execution_count": null,
      "metadata": {
        "colab": {
          "base_uri": "https://localhost:8080/"
        },
        "id": "aG9bOPFdw5sA",
        "outputId": "6bfdde71-d9bd-463c-86a7-dcb5de71437d"
      },
      "outputs": [
        {
          "name": "stdout",
          "output_type": "stream",
          "text": [
            "Accuracy: 0.761\n"
          ]
        }
      ],
      "source": [
        "from sklearn.svm import SVC\n",
        "\n",
        "# Define the SVM classifier with custom hyperparameters\n",
        "svm = SVC(C=10, kernel='rbf', gamma=0.1, random_state=42)\n",
        "\n",
        "# Fit the model on the training set\n",
        "svm.fit(train_dataset, train_encoded_labels)\n",
        "\n",
        "# Evaluate the model on the test set\n",
        "accuracy = svm.score(test_dataset, test_encoded_labels)\n",
        "\n",
        "print(f\"Accuracy: {accuracy:.3f}\")\n"
      ]
    },
    {
      "cell_type": "code",
      "execution_count": null,
      "metadata": {
        "colab": {
          "base_uri": "https://localhost:8080/"
        },
        "id": "71DgbnQk00TQ",
        "outputId": "1a28338c-e079-4507-873e-2bb6f132247d"
      },
      "outputs": [
        {
          "name": "stdout",
          "output_type": "stream",
          "text": [
            "Accuracy: 0.761\n"
          ]
        }
      ],
      "source": [
        "\n",
        "# Define the SVM classifier with custom hyperparameters\n",
        "svm = SVC(C=5, kernel='rbf', gamma=0.1, random_state=42)\n",
        "\n",
        "# Fit the model on the training set\n",
        "svm.fit(train_dataset, train_encoded_labels)\n",
        "\n",
        "# Evaluate the model on the test set\n",
        "accuracy = svm.score(test_dataset, test_encoded_labels)\n",
        "\n",
        "print(f\"Accuracy: {accuracy:.3f}\")\n"
      ]
    },
    {
      "cell_type": "code",
      "execution_count": null,
      "metadata": {
        "colab": {
          "background_save": true,
          "base_uri": "https://localhost:8080/"
        },
        "id": "ko0V_nP2DhPt",
        "outputId": "b58b27a4-6720-44f1-c3d3-2e03ec672847"
      },
      "outputs": [
        {
          "name": "stdout",
          "output_type": "stream",
          "text": [
            "Accuracy: 0.761\n",
            "Precision: 0.761\n",
            "Recall: 0.761\n",
            "F1 Score: 0.761\n"
          ]
        }
      ],
      "source": [
        "from sklearn.metrics import accuracy_score, precision_score, recall_score, f1_score\n",
        "\n",
        "# Use the trained model to predict on test data\n",
        "test_pred = svm.predict(test_dataset)\n",
        "\n",
        "# Calculate accuracy, precision, recall, and F1 score\n",
        "accuracy = accuracy_score(test_encoded_labels, test_pred)\n",
        "precision = precision_score(test_encoded_labels, test_pred, average='micro')\n",
        "recall = recall_score(test_encoded_labels, test_pred, average='micro')\n",
        "f1 = f1_score(test_encoded_labels, test_pred, average='micro')\n",
        "\n",
        "print(f\"Accuracy: {accuracy:.3f}\")\n",
        "print(f\"Precision: {precision:.3f}\")\n",
        "print(f\"Recall: {recall:.3f}\")\n",
        "print(f\"F1 Score: {f1:.3f}\")\n",
        "\n"
      ]
    },
    {
      "cell_type": "code",
      "execution_count": null,
      "metadata": {
        "colab": {
          "background_save": true,
          "base_uri": "https://localhost:8080/",
          "height": 641
        },
        "id": "pykHdp8AEkRm",
        "outputId": "5cc9b747-71da-4236-a1b5-d147e7279c9e"
      },
      "outputs": [
        {
          "data": {
            "image/png": "[encoded data removed]",
            "text/plain": [
              "<Figure size 1000x700 with 2 Axes>"
            ]
          },
          "metadata": {},
          "output_type": "display_data"
        }
      ],
      "source": [
        "import matplotlib.pyplot as plt\n",
        "import seaborn as sns\n",
        "from sklearn.metrics import confusion_matrix\n",
        "\n",
        "plt.figure(figsize=(10, 7))\n",
        "cm = confusion_matrix(test_encoded_labels, test_pred)\n",
        "\n",
        "sns.heatmap(cm, annot=True, fmt='d', cmap=\"YlGnBu\", xticklabels=[0, 1, 2], yticklabels=[0, 1, 2])\n",
        "\n",
        "\n",
        "\n",
        "algorithm_name = 'SVM'\n",
        "plt.title(f'Confusion Matrix for {algorithm_name}')\n",
        "\n",
        "plt.xlabel('Predicted label')\n",
        "\n",
        "plt.ylabel('True label')\n",
        "\n",
        "plt.show()\n"
      ]
    },
    {
      "cell_type": "code",
      "execution_count": null,
      "metadata": {
        "colab": {
          "background_save": true
        },
        "id": "Ln9oEG8P9Up1",
        "outputId": "bb29580f-569d-45ab-c836-bad51ecf352a"
      },
      "outputs": [
        {
          "name": "stdout",
          "output_type": "stream",
          "text": [
            "Accuracy: 0.761\n"
          ]
        }
      ],
      "source": [
        "# Define the SVM classifier with custom hyperparameters\n",
        "svm = SVC( kernel='rbf', gamma=0.1, random_state=42)\n",
        "\n",
        "# Fit the model on the training set\n",
        "svm.fit(train_dataset, train_encoded_labels)\n",
        "\n",
        "# Evaluate the model on the test set\n",
        "accuracy = svm.score(test_dataset, test_encoded_labels)\n",
        "\n",
        "print(f\"Accuracy: {accuracy:.3f}\")"
      ]
    },
    {
      "cell_type": "code",
      "execution_count": null,
      "metadata": {
        "colab": {
          "background_save": true
        },
        "id": "yJZKWGoDvkbS",
        "outputId": "fac7576e-eb22-4e8c-c8be-143a93448f69"
      },
      "outputs": [
        {
          "name": "stdout",
          "output_type": "stream",
          "text": [
            "Majority class baseline accuracy: 0.433\n"
          ]
        }
      ],
      "source": [
        "import numpy as np\n",
        "\n",
        "# Find the most frequent class in the training set\n",
        "majority_class = np.bincount(train_encoded_labels).argmax()\n",
        "\n",
        "# Predict the majority class for all instances in the test set\n",
        "majority_pred_labels = np.full_like(test_encoded_labels, fill_value=majority_class)\n",
        "\n",
        "# Compute the accuracy of the majority class baseline\n",
        "majority_accuracy = (test_encoded_labels == majority_pred_labels).mean()\n",
        "\n",
        "print(f\"Majority class baseline accuracy: {majority_accuracy:.3f}\")\n",
        "\n"
      ]
    },
    {
      "cell_type": "markdown",
      "metadata": {
        "id": "-wFpIN19xf8p"
      },
      "source": [
        "### Neural Network"
      ]
    },
    {
      "cell_type": "code",
      "execution_count": null,
      "metadata": {
        "colab": {
          "background_save": true,
          "base_uri": "https://localhost:8080/"
        },
        "id": "1aK-s4GypDBU",
        "outputId": "40b9ccee-42a2-4100-e1dc-d2d291ad5fa4"
      },
      "outputs": [
        {
          "name": "stdout",
          "output_type": "stream",
          "text": [
            "{0: 1.6362337476782398, 1: 0.9066223330562483, 2: 0.777698550134121}\n",
            "Epoch 1/100\n",
            "287/287 [==============================] - 2s 3ms/step - loss: 0.6828 - accuracy: 0.7341 - val_loss: 0.6582 - val_accuracy: 0.7446\n",
            "Epoch 2/100\n",
            "287/287 [==============================] - 1s 2ms/step - loss: 0.6383 - accuracy: 0.7526 - val_loss: 0.6532 - val_accuracy: 0.7503\n",
            "Epoch 3/100\n",
            "287/287 [==============================] - 1s 2ms/step - loss: 0.6328 - accuracy: 0.7535 - val_loss: 0.6608 - val_accuracy: 0.7551\n",
            "Epoch 4/100\n",
            "287/287 [==============================] - 1s 2ms/step - loss: 0.6318 - accuracy: 0.7542 - val_loss: 0.6914 - val_accuracy: 0.7518\n",
            "Epoch 5/100\n",
            "287/287 [==============================] - 1s 2ms/step - loss: 0.6285 - accuracy: 0.7553 - val_loss: 0.6581 - val_accuracy: 0.7568\n",
            "Epoch 6/100\n",
            "287/287 [==============================] - 1s 2ms/step - loss: 0.6269 - accuracy: 0.7565 - val_loss: 0.6921 - val_accuracy: 0.7490\n",
            "Epoch 7/100\n",
            "287/287 [==============================] - 1s 2ms/step - loss: 0.6264 - accuracy: 0.7551 - val_loss: 0.6530 - val_accuracy: 0.7553\n",
            "Epoch 8/100\n",
            "287/287 [==============================] - 1s 2ms/step - loss: 0.6263 - accuracy: 0.7561 - val_loss: 0.6581 - val_accuracy: 0.7562\n",
            "Epoch 9/100\n",
            "287/287 [==============================] - 1s 2ms/step - loss: 0.6245 - accuracy: 0.7566 - val_loss: 0.6515 - val_accuracy: 0.7559\n",
            "Epoch 10/100\n",
            "287/287 [==============================] - 1s 3ms/step - loss: 0.6264 - accuracy: 0.7557 - val_loss: 0.6642 - val_accuracy: 0.7535\n",
            "Epoch 11/100\n",
            "287/287 [==============================] - 1s 4ms/step - loss: 0.6238 - accuracy: 0.7548 - val_loss: 0.6712 - val_accuracy: 0.7498\n",
            "Epoch 12/100\n",
            "287/287 [==============================] - 1s 2ms/step - loss: 0.6228 - accuracy: 0.7568 - val_loss: 0.6554 - val_accuracy: 0.7586\n",
            "Epoch 13/100\n",
            "287/287 [==============================] - 1s 2ms/step - loss: 0.6227 - accuracy: 0.7559 - val_loss: 0.6660 - val_accuracy: 0.7551\n",
            "Epoch 14/100\n",
            "287/287 [==============================] - 1s 2ms/step - loss: 0.6235 - accuracy: 0.7560 - val_loss: 0.6483 - val_accuracy: 0.7553\n",
            "Epoch 15/100\n",
            "287/287 [==============================] - 1s 2ms/step - loss: 0.6193 - accuracy: 0.7562 - val_loss: 0.6573 - val_accuracy: 0.7568\n",
            "Epoch 16/100\n",
            "287/287 [==============================] - 1s 2ms/step - loss: 0.6206 - accuracy: 0.7572 - val_loss: 0.6669 - val_accuracy: 0.7518\n",
            "Epoch 17/100\n",
            "287/287 [==============================] - 1s 2ms/step - loss: 0.6194 - accuracy: 0.7578 - val_loss: 0.6702 - val_accuracy: 0.7527\n",
            "Epoch 18/100\n",
            "287/287 [==============================] - 1s 2ms/step - loss: 0.6200 - accuracy: 0.7562 - val_loss: 0.6739 - val_accuracy: 0.7514\n",
            "Epoch 19/100\n",
            "287/287 [==============================] - 1s 2ms/step - loss: 0.6198 - accuracy: 0.7562 - val_loss: 0.6639 - val_accuracy: 0.7516\n",
            "Epoch 20/100\n",
            "287/287 [==============================] - 1s 2ms/step - loss: 0.6182 - accuracy: 0.7577 - val_loss: 0.6648 - val_accuracy: 0.7518\n",
            "Epoch 21/100\n",
            "287/287 [==============================] - 1s 2ms/step - loss: 0.6204 - accuracy: 0.7566 - val_loss: 0.6609 - val_accuracy: 0.7562\n",
            "Epoch 22/100\n",
            "287/287 [==============================] - 1s 2ms/step - loss: 0.6182 - accuracy: 0.7576 - val_loss: 0.6576 - val_accuracy: 0.7487\n",
            "Epoch 23/100\n",
            "287/287 [==============================] - 1s 2ms/step - loss: 0.6178 - accuracy: 0.7587 - val_loss: 0.6563 - val_accuracy: 0.7490\n",
            "Epoch 24/100\n",
            "287/287 [==============================] - 1s 2ms/step - loss: 0.6175 - accuracy: 0.7584 - val_loss: 0.6570 - val_accuracy: 0.7538\n",
            "Epoch 25/100\n",
            "287/287 [==============================] - 1s 2ms/step - loss: 0.6167 - accuracy: 0.7586 - val_loss: 0.6635 - val_accuracy: 0.7396\n",
            "Epoch 26/100\n",
            "287/287 [==============================] - 1s 2ms/step - loss: 0.6167 - accuracy: 0.7587 - val_loss: 0.6590 - val_accuracy: 0.7557\n",
            "Epoch 27/100\n",
            "287/287 [==============================] - 1s 2ms/step - loss: 0.6171 - accuracy: 0.7592 - val_loss: 0.6711 - val_accuracy: 0.7514\n",
            "Epoch 28/100\n",
            "287/287 [==============================] - 1s 3ms/step - loss: 0.6170 - accuracy: 0.7584 - val_loss: 0.6536 - val_accuracy: 0.7564\n",
            "Epoch 29/100\n",
            "287/287 [==============================] - 1s 3ms/step - loss: 0.6144 - accuracy: 0.7587 - val_loss: 0.6779 - val_accuracy: 0.7527\n",
            "Epoch 30/100\n",
            "287/287 [==============================] - 1s 3ms/step - loss: 0.6163 - accuracy: 0.7586 - val_loss: 0.6616 - val_accuracy: 0.7522\n",
            "Epoch 31/100\n",
            "287/287 [==============================] - 1s 2ms/step - loss: 0.6162 - accuracy: 0.7577 - val_loss: 0.6653 - val_accuracy: 0.7564\n",
            "Epoch 32/100\n",
            "287/287 [==============================] - 1s 2ms/step - loss: 0.6168 - accuracy: 0.7580 - val_loss: 0.6639 - val_accuracy: 0.7540\n",
            "Epoch 33/100\n",
            "287/287 [==============================] - 1s 2ms/step - loss: 0.6150 - accuracy: 0.7584 - val_loss: 0.6590 - val_accuracy: 0.7559\n",
            "Epoch 34/100\n",
            "287/287 [==============================] - 1s 2ms/step - loss: 0.6160 - accuracy: 0.7574 - val_loss: 0.6626 - val_accuracy: 0.7531\n",
            "Epoch 35/100\n",
            "287/287 [==============================] - 1s 2ms/step - loss: 0.6151 - accuracy: 0.7584 - val_loss: 0.6676 - val_accuracy: 0.7557\n",
            "Epoch 36/100\n",
            "287/287 [==============================] - 1s 2ms/step - loss: 0.6152 - accuracy: 0.7585 - val_loss: 0.6649 - val_accuracy: 0.7573\n",
            "Epoch 37/100\n",
            "287/287 [==============================] - 1s 2ms/step - loss: 0.6166 - accuracy: 0.7583 - val_loss: 0.6705 - val_accuracy: 0.7527\n",
            "Epoch 38/100\n",
            "287/287 [==============================] - 1s 2ms/step - loss: 0.6135 - accuracy: 0.7577 - val_loss: 0.6687 - val_accuracy: 0.7535\n",
            "Epoch 39/100\n",
            "287/287 [==============================] - 1s 2ms/step - loss: 0.6150 - accuracy: 0.7587 - val_loss: 0.6656 - val_accuracy: 0.7566\n",
            "Epoch 40/100\n",
            "287/287 [==============================] - 1s 2ms/step - loss: 0.6153 - accuracy: 0.7578 - val_loss: 0.6599 - val_accuracy: 0.7562\n",
            "Epoch 41/100\n",
            "287/287 [==============================] - 1s 2ms/step - loss: 0.6140 - accuracy: 0.7584 - val_loss: 0.6626 - val_accuracy: 0.7538\n",
            "Epoch 42/100\n",
            "287/287 [==============================] - 1s 2ms/step - loss: 0.6153 - accuracy: 0.7576 - val_loss: 0.6479 - val_accuracy: 0.7535\n",
            "Epoch 43/100\n",
            "287/287 [==============================] - 1s 2ms/step - loss: 0.6134 - accuracy: 0.7580 - val_loss: 0.6561 - val_accuracy: 0.7577\n",
            "Epoch 44/100\n",
            "287/287 [==============================] - 1s 2ms/step - loss: 0.6135 - accuracy: 0.7593 - val_loss: 0.6552 - val_accuracy: 0.7566\n",
            "Epoch 45/100\n",
            "287/287 [==============================] - 1s 3ms/step - loss: 0.6125 - accuracy: 0.7588 - val_loss: 0.6737 - val_accuracy: 0.7551\n",
            "Epoch 46/100\n",
            "287/287 [==============================] - 1s 3ms/step - loss: 0.6117 - accuracy: 0.7573 - val_loss: 0.6596 - val_accuracy: 0.7562\n",
            "Epoch 47/100\n",
            "287/287 [==============================] - 1s 3ms/step - loss: 0.6121 - accuracy: 0.7600 - val_loss: 0.6801 - val_accuracy: 0.7540\n",
            "Epoch 48/100\n",
            "287/287 [==============================] - 1s 2ms/step - loss: 0.6129 - accuracy: 0.7592 - val_loss: 0.6602 - val_accuracy: 0.7538\n",
            "Epoch 49/100\n",
            "287/287 [==============================] - 1s 2ms/step - loss: 0.6122 - accuracy: 0.7586 - val_loss: 0.6616 - val_accuracy: 0.7516\n",
            "Epoch 50/100\n",
            "287/287 [==============================] - 1s 2ms/step - loss: 0.6129 - accuracy: 0.7577 - val_loss: 0.6742 - val_accuracy: 0.7538\n",
            "Epoch 51/100\n",
            "287/287 [==============================] - 1s 2ms/step - loss: 0.6124 - accuracy: 0.7586 - val_loss: 0.6642 - val_accuracy: 0.7568\n",
            "Epoch 52/100\n",
            "287/287 [==============================] - 1s 2ms/step - loss: 0.6117 - accuracy: 0.7586 - val_loss: 0.6692 - val_accuracy: 0.7562\n",
            "Epoch 53/100\n",
            "287/287 [==============================] - 1s 2ms/step - loss: 0.6121 - accuracy: 0.7583 - val_loss: 0.6529 - val_accuracy: 0.7553\n",
            "Epoch 54/100\n",
            "287/287 [==============================] - 1s 2ms/step - loss: 0.6122 - accuracy: 0.7589 - val_loss: 0.6596 - val_accuracy: 0.7551\n",
            "Epoch 55/100\n",
            "287/287 [==============================] - 1s 2ms/step - loss: 0.6132 - accuracy: 0.7581 - val_loss: 0.6681 - val_accuracy: 0.7555\n",
            "Epoch 56/100\n",
            "287/287 [==============================] - 1s 2ms/step - loss: 0.6105 - accuracy: 0.7596 - val_loss: 0.6687 - val_accuracy: 0.7557\n",
            "Epoch 57/100\n",
            "287/287 [==============================] - 1s 2ms/step - loss: 0.6118 - accuracy: 0.7585 - val_loss: 0.6571 - val_accuracy: 0.7559\n",
            "Epoch 58/100\n",
            "287/287 [==============================] - 1s 2ms/step - loss: 0.6111 - accuracy: 0.7581 - val_loss: 0.6657 - val_accuracy: 0.7509\n",
            "Epoch 59/100\n",
            "287/287 [==============================] - 1s 2ms/step - loss: 0.6106 - accuracy: 0.7600 - val_loss: 0.6712 - val_accuracy: 0.7466\n",
            "Epoch 60/100\n",
            "287/287 [==============================] - 1s 2ms/step - loss: 0.6097 - accuracy: 0.7599 - val_loss: 0.6783 - val_accuracy: 0.7461\n",
            "Epoch 61/100\n",
            "287/287 [==============================] - 1s 2ms/step - loss: 0.6099 - accuracy: 0.7590 - val_loss: 0.6740 - val_accuracy: 0.7470\n",
            "Epoch 62/100\n",
            "287/287 [==============================] - 1s 3ms/step - loss: 0.6109 - accuracy: 0.7591 - val_loss: 0.6551 - val_accuracy: 0.7562\n",
            "Epoch 63/100\n",
            "287/287 [==============================] - 1s 3ms/step - loss: 0.6110 - accuracy: 0.7584 - val_loss: 0.6590 - val_accuracy: 0.7566\n",
            "Epoch 64/100\n",
            "287/287 [==============================] - 1s 3ms/step - loss: 0.6092 - accuracy: 0.7586 - val_loss: 0.6619 - val_accuracy: 0.7542\n",
            "Epoch 65/100\n",
            "287/287 [==============================] - 1s 2ms/step - loss: 0.6113 - accuracy: 0.7600 - val_loss: 0.6527 - val_accuracy: 0.7553\n",
            "Epoch 66/100\n",
            "287/287 [==============================] - 1s 3ms/step - loss: 0.6108 - accuracy: 0.7581 - val_loss: 0.6503 - val_accuracy: 0.7599\n",
            "Epoch 67/100\n",
            "287/287 [==============================] - 1s 2ms/step - loss: 0.6119 - accuracy: 0.7587 - val_loss: 0.6521 - val_accuracy: 0.7559\n",
            "Epoch 68/100\n",
            "287/287 [==============================] - 1s 2ms/step - loss: 0.6096 - accuracy: 0.7588 - val_loss: 0.6548 - val_accuracy: 0.7546\n",
            "Epoch 69/100\n",
            "287/287 [==============================] - 1s 2ms/step - loss: 0.6104 - accuracy: 0.7582 - val_loss: 0.6640 - val_accuracy: 0.7568\n",
            "Epoch 70/100\n",
            "287/287 [==============================] - 1s 2ms/step - loss: 0.6079 - accuracy: 0.7618 - val_loss: 0.6502 - val_accuracy: 0.7546\n",
            "Epoch 71/100\n",
            "287/287 [==============================] - 1s 2ms/step - loss: 0.6098 - accuracy: 0.7592 - val_loss: 0.6481 - val_accuracy: 0.7568\n",
            "Epoch 72/100\n",
            "287/287 [==============================] - 1s 2ms/step - loss: 0.6097 - accuracy: 0.7594 - val_loss: 0.6693 - val_accuracy: 0.7540\n",
            "Epoch 73/100\n",
            "287/287 [==============================] - 1s 2ms/step - loss: 0.6098 - accuracy: 0.7586 - val_loss: 0.6622 - val_accuracy: 0.7579\n",
            "Epoch 74/100\n",
            "287/287 [==============================] - 1s 3ms/step - loss: 0.6102 - accuracy: 0.7585 - val_loss: 0.6537 - val_accuracy: 0.7570\n",
            "Epoch 75/100\n",
            "287/287 [==============================] - 1s 2ms/step - loss: 0.6079 - accuracy: 0.7593 - val_loss: 0.6565 - val_accuracy: 0.7555\n",
            "Epoch 76/100\n",
            "287/287 [==============================] - 1s 2ms/step - loss: 0.6084 - accuracy: 0.7583 - val_loss: 0.6794 - val_accuracy: 0.7555\n",
            "Epoch 77/100\n",
            "287/287 [==============================] - 1s 2ms/step - loss: 0.6087 - accuracy: 0.7588 - val_loss: 0.6565 - val_accuracy: 0.7542\n",
            "Epoch 78/100\n",
            "287/287 [==============================] - 1s 2ms/step - loss: 0.6095 - accuracy: 0.7592 - val_loss: 0.6677 - val_accuracy: 0.7529\n",
            "Epoch 79/100\n",
            "287/287 [==============================] - 1s 3ms/step - loss: 0.6098 - accuracy: 0.7588 - val_loss: 0.6587 - val_accuracy: 0.7557\n",
            "Epoch 80/100\n",
            "287/287 [==============================] - 1s 3ms/step - loss: 0.6087 - accuracy: 0.7598 - val_loss: 0.6650 - val_accuracy: 0.7538\n",
            "Epoch 81/100\n",
            "287/287 [==============================] - 1s 3ms/step - loss: 0.6099 - accuracy: 0.7582 - val_loss: 0.6602 - val_accuracy: 0.7603\n",
            "Epoch 82/100\n",
            "287/287 [==============================] - 1s 2ms/step - loss: 0.6097 - accuracy: 0.7586 - val_loss: 0.6535 - val_accuracy: 0.7579\n",
            "Epoch 83/100\n",
            "287/287 [==============================] - 1s 2ms/step - loss: 0.6082 - accuracy: 0.7596 - val_loss: 0.6641 - val_accuracy: 0.7549\n",
            "Epoch 84/100\n",
            "287/287 [==============================] - 1s 2ms/step - loss: 0.6082 - accuracy: 0.7590 - val_loss: 0.6767 - val_accuracy: 0.7535\n",
            "Epoch 85/100\n",
            "287/287 [==============================] - 1s 2ms/step - loss: 0.6096 - accuracy: 0.7587 - val_loss: 0.6502 - val_accuracy: 0.7562\n",
            "Epoch 86/100\n",
            "287/287 [==============================] - 1s 2ms/step - loss: 0.6078 - accuracy: 0.7597 - val_loss: 0.6718 - val_accuracy: 0.7540\n",
            "Epoch 87/100\n",
            "287/287 [==============================] - 1s 2ms/step - loss: 0.6098 - accuracy: 0.7579 - val_loss: 0.6589 - val_accuracy: 0.7551\n",
            "Epoch 88/100\n",
            "287/287 [==============================] - 1s 2ms/step - loss: 0.6101 - accuracy: 0.7601 - val_loss: 0.6611 - val_accuracy: 0.7562\n",
            "Epoch 89/100\n",
            "287/287 [==============================] - 1s 2ms/step - loss: 0.6085 - accuracy: 0.7590 - val_loss: 0.6592 - val_accuracy: 0.7559\n",
            "Epoch 90/100\n",
            "287/287 [==============================] - 1s 2ms/step - loss: 0.6085 - accuracy: 0.7589 - val_loss: 0.6584 - val_accuracy: 0.7535\n",
            "Epoch 91/100\n",
            "287/287 [==============================] - 1s 2ms/step - loss: 0.6080 - accuracy: 0.7585 - val_loss: 0.6700 - val_accuracy: 0.7546\n",
            "Epoch 92/100\n",
            "287/287 [==============================] - 1s 2ms/step - loss: 0.6091 - accuracy: 0.7584 - val_loss: 0.6568 - val_accuracy: 0.7549\n",
            "Epoch 93/100\n",
            "287/287 [==============================] - 1s 2ms/step - loss: 0.6069 - accuracy: 0.7599 - val_loss: 0.6663 - val_accuracy: 0.7487\n",
            "Epoch 94/100\n",
            "287/287 [==============================] - 1s 2ms/step - loss: 0.6093 - accuracy: 0.7594 - val_loss: 0.6739 - val_accuracy: 0.7511\n",
            "Epoch 95/100\n",
            "287/287 [==============================] - 1s 2ms/step - loss: 0.6093 - accuracy: 0.7587 - val_loss: 0.6586 - val_accuracy: 0.7568\n",
            "Epoch 96/100\n",
            "287/287 [==============================] - 1s 3ms/step - loss: 0.6083 - accuracy: 0.7598 - val_loss: 0.6587 - val_accuracy: 0.7542\n",
            "Epoch 97/100\n",
            "287/287 [==============================] - 1s 3ms/step - loss: 0.6083 - accuracy: 0.7605 - val_loss: 0.6622 - val_accuracy: 0.7533\n",
            "Epoch 98/100\n",
            "287/287 [==============================] - 1s 3ms/step - loss: 0.6109 - accuracy: 0.7586 - val_loss: 0.6573 - val_accuracy: 0.7551\n",
            "Epoch 99/100\n",
            "287/287 [==============================] - 1s 3ms/step - loss: 0.6093 - accuracy: 0.7606 - val_loss: 0.6661 - val_accuracy: 0.7546\n",
            "Epoch 100/100\n",
            "287/287 [==============================] - 1s 2ms/step - loss: 0.6087 - accuracy: 0.7601 - val_loss: 0.6568 - val_accuracy: 0.7535\n",
            "Model: \"sequential\"\n",
            "_________________________________________________________________\n",
            " Layer (type)                Output Shape              Param #   \n",
            "=================================================================\n",
            " dense (Dense)               (None, 20)                660       \n",
            "                                                                 \n",
            " dense_1 (Dense)             (None, 3)                 63        \n",
            "                                                                 \n",
            "=================================================================\n",
            "Total params: 723\n",
            "Trainable params: 723\n",
            "Non-trainable params: 0\n",
            "_________________________________________________________________\n",
            "None\n",
            "Model: \"sequential\"\n",
            "_________________________________________________________________\n",
            " Layer (type)                Output Shape              Param #   \n",
            "=================================================================\n",
            " dense (Dense)               (None, 20)                660       \n",
            "                                                                 \n",
            " dense_1 (Dense)             (None, 3)                 63        \n",
            "                                                                 \n",
            "=================================================================\n",
            "Total params: 723\n",
            "Trainable params: 723\n",
            "Non-trainable params: 0\n",
            "_________________________________________________________________\n",
            "None\n"
          ]
        }
      ],
      "source": [
        "from keras.models import Sequential\n",
        "import tensorflow as tf\n",
        "from tensorflow.keras import datasets, layers, models\n",
        "from keras.utils import to_categorical\n",
        "from keras.layers import Dense\n",
        "from keras.optimizers import Adam\n",
        "from sklearn.utils import class_weight\n",
        "\n",
        "scaler = StandardScaler()\n",
        "\n",
        "scaler = StandardScaler()\n",
        "\n",
        "X_train = scaler.fit_transform(train_dataset)\n",
        "\n",
        "X_test = scaler.transform(test_dataset)\n",
        "\n",
        "\n",
        "\n",
        "\n",
        "y_train = train_encoded_labels\n",
        "\n",
        "y_test = test_encoded_labels\n",
        "hidden_layer_nodes = 20\n",
        "num_of_input_features = X_train.shape[1]\n",
        "\n",
        "y_train_oh = to_categorical(y_train)\n",
        "y_test_oh = to_categorical(y_test)\n",
        "\n",
        "\n",
        "hidden_layer_nodes = 20\n",
        "num_of_input_features = X_train.shape[1]\n",
        "\n",
        "model=Sequential()\n",
        "model.add(layers.Input(shape=(num_of_input_features,)))\n",
        "model.add(layers.Dense(20, activation='relu'))\n",
        "model.add(layers.Dense(3, activation='sigmoid'))\n",
        "learning_rate = 0.01 # change to 0.01\n",
        "model.compile(optimizer=tf.keras.optimizers.Adam(learning_rate=learning_rate),\n",
        "              loss=tf.keras.losses.CategoricalCrossentropy(),\n",
        "              metrics=['accuracy'])\n",
        "batch_size = 64\n",
        "epochs = 100\n",
        "validation_split = 0.2\n",
        "# compute class weights to counteract data imbalance\n",
        "\n",
        "# compute class weights to counteract data imbalance\n",
        "\n",
        "class_weights = class_weight.compute_class_weight(\n",
        "    class_weight= \"balanced\",\n",
        "    classes = np.unique(train_encoded_labels),\n",
        "    y = train_encoded_labels)\n",
        "\n",
        "# we turn the weights into a dictionary\n",
        "class_weights = dict(zip(np.unique(train_encoded_labels), class_weights))\n",
        "\n",
        "# Let's print the results\n",
        "# note that encoded label 0 corresponds to the original label 'N': there are fewer instances of 'N' so this class is given a higher weight in the loss function\n",
        "print(class_weights)\n",
        "\n",
        "\n",
        "history = model.fit(X_train,\n",
        "                    y_train_oh,\n",
        "                    epochs=epochs,\n",
        "                    batch_size=batch_size,\n",
        "                    validation_split= validation_split,\n",
        "                    class_weight= class_weights)\n",
        "\n",
        "print(model.summary())\n",
        "\n",
        "# as metric we choose the accuracy: the total number of correct predictions made\n",
        "# Adam is a typical choice for an optimizer and tends to perform well in practice\n",
        "# the most typical choice for the loss function is the binary cross entropy since\n",
        "# we are solving a binary classification task. If we were solving a multi-class classification\n",
        "# task, we'd choose the categorical cross entropy (that is, the more general version)\n",
        "learning_rate = 0.001\n",
        "model.compile(optimizer=tf.keras.optimizers.Adam(learning_rate=learning_rate),\n",
        "              loss=tf.keras.losses.CategoricalCrossentropy(),\n",
        "              metrics=['accuracy'])\n",
        "\n",
        "# let's print a summary of the model to see what it's like\n",
        "print(model.summary())"
      ]
    },
    {
      "cell_type": "code",
      "execution_count": null,
      "metadata": {
        "colab": {
          "background_save": true,
          "base_uri": "https://localhost:8080/"
        },
        "id": "2Mozz6dvO0DU",
        "outputId": "4cf35765-bf8d-48b4-fc0a-797a65baa9d3"
      },
      "outputs": [
        {
          "name": "stdout",
          "output_type": "stream",
          "text": [
            "{0: 1.6362337476782398, 1: 0.9066223330562483, 2: 0.777698550134121}\n",
            "Epoch 1/50\n",
            "573/573 [==============================] - 2s 3ms/step - loss: 0.8229 - accuracy: 0.6657 - val_loss: 0.7175 - val_accuracy: 0.7341\n",
            "Epoch 2/50\n",
            "573/573 [==============================] - 1s 2ms/step - loss: 0.6603 - accuracy: 0.7456 - val_loss: 0.6841 - val_accuracy: 0.7446\n",
            "Epoch 3/50\n",
            "573/573 [==============================] - 1s 2ms/step - loss: 0.6445 - accuracy: 0.7503 - val_loss: 0.6806 - val_accuracy: 0.7474\n",
            "Epoch 4/50\n",
            "573/573 [==============================] - 1s 2ms/step - loss: 0.6363 - accuracy: 0.7534 - val_loss: 0.6647 - val_accuracy: 0.7514\n",
            "Epoch 5/50\n",
            "573/573 [==============================] - 1s 2ms/step - loss: 0.6311 - accuracy: 0.7547 - val_loss: 0.6635 - val_accuracy: 0.7531\n",
            "Epoch 6/50\n",
            "573/573 [==============================] - 1s 2ms/step - loss: 0.6273 - accuracy: 0.7562 - val_loss: 0.6703 - val_accuracy: 0.7520\n",
            "Epoch 7/50\n",
            "573/573 [==============================] - 2s 3ms/step - loss: 0.6251 - accuracy: 0.7560 - val_loss: 0.6612 - val_accuracy: 0.7573\n",
            "Epoch 8/50\n",
            "573/573 [==============================] - 2s 3ms/step - loss: 0.6229 - accuracy: 0.7566 - val_loss: 0.6526 - val_accuracy: 0.7566\n",
            "Epoch 9/50\n",
            "573/573 [==============================] - 1s 2ms/step - loss: 0.6211 - accuracy: 0.7573 - val_loss: 0.6639 - val_accuracy: 0.7553\n",
            "Epoch 10/50\n",
            "573/573 [==============================] - 1s 2ms/step - loss: 0.6203 - accuracy: 0.7574 - val_loss: 0.6634 - val_accuracy: 0.7564\n",
            "Epoch 11/50\n",
            "573/573 [==============================] - 1s 2ms/step - loss: 0.6186 - accuracy: 0.7583 - val_loss: 0.6540 - val_accuracy: 0.7551\n",
            "Epoch 12/50\n",
            "573/573 [==============================] - 1s 2ms/step - loss: 0.6179 - accuracy: 0.7593 - val_loss: 0.6611 - val_accuracy: 0.7568\n",
            "Epoch 13/50\n",
            "573/573 [==============================] - 1s 2ms/step - loss: 0.6164 - accuracy: 0.7586 - val_loss: 0.6578 - val_accuracy: 0.7566\n",
            "Epoch 14/50\n",
            "573/573 [==============================] - 1s 2ms/step - loss: 0.6157 - accuracy: 0.7586 - val_loss: 0.6597 - val_accuracy: 0.7559\n",
            "Epoch 15/50\n",
            "573/573 [==============================] - 1s 2ms/step - loss: 0.6143 - accuracy: 0.7596 - val_loss: 0.6559 - val_accuracy: 0.7559\n",
            "Epoch 16/50\n",
            "573/573 [==============================] - 1s 3ms/step - loss: 0.6143 - accuracy: 0.7590 - val_loss: 0.6614 - val_accuracy: 0.7575\n",
            "Epoch 17/50\n",
            "573/573 [==============================] - 2s 3ms/step - loss: 0.6136 - accuracy: 0.7601 - val_loss: 0.6626 - val_accuracy: 0.7577\n",
            "Epoch 18/50\n",
            "573/573 [==============================] - 1s 2ms/step - loss: 0.6132 - accuracy: 0.7610 - val_loss: 0.6606 - val_accuracy: 0.7575\n",
            "Epoch 19/50\n",
            "573/573 [==============================] - 1s 2ms/step - loss: 0.6127 - accuracy: 0.7606 - val_loss: 0.6624 - val_accuracy: 0.7575\n",
            "Epoch 20/50\n",
            "573/573 [==============================] - 1s 2ms/step - loss: 0.6125 - accuracy: 0.7606 - val_loss: 0.6562 - val_accuracy: 0.7581\n",
            "Epoch 21/50\n",
            "573/573 [==============================] - 1s 2ms/step - loss: 0.6115 - accuracy: 0.7606 - val_loss: 0.6535 - val_accuracy: 0.7583\n",
            "Epoch 22/50\n",
            "573/573 [==============================] - 1s 2ms/step - loss: 0.6113 - accuracy: 0.7604 - val_loss: 0.6672 - val_accuracy: 0.7581\n",
            "Epoch 23/50\n",
            "573/573 [==============================] - 1s 2ms/step - loss: 0.6113 - accuracy: 0.7610 - val_loss: 0.6555 - val_accuracy: 0.7583\n",
            "Epoch 24/50\n",
            "573/573 [==============================] - 1s 2ms/step - loss: 0.6108 - accuracy: 0.7610 - val_loss: 0.6557 - val_accuracy: 0.7581\n",
            "Epoch 25/50\n",
            "573/573 [==============================] - 1s 3ms/step - loss: 0.6102 - accuracy: 0.7604 - val_loss: 0.6543 - val_accuracy: 0.7570\n",
            "Epoch 26/50\n",
            "573/573 [==============================] - 2s 3ms/step - loss: 0.6099 - accuracy: 0.7615 - val_loss: 0.6651 - val_accuracy: 0.7579\n",
            "Epoch 27/50\n",
            "573/573 [==============================] - 1s 2ms/step - loss: 0.6095 - accuracy: 0.7607 - val_loss: 0.6599 - val_accuracy: 0.7605\n",
            "Epoch 28/50\n",
            "573/573 [==============================] - 1s 2ms/step - loss: 0.6093 - accuracy: 0.7623 - val_loss: 0.6590 - val_accuracy: 0.7575\n",
            "Epoch 29/50\n",
            "573/573 [==============================] - 1s 2ms/step - loss: 0.6091 - accuracy: 0.7612 - val_loss: 0.6568 - val_accuracy: 0.7605\n",
            "Epoch 30/50\n",
            "573/573 [==============================] - 1s 2ms/step - loss: 0.6087 - accuracy: 0.7611 - val_loss: 0.6616 - val_accuracy: 0.7592\n",
            "Epoch 31/50\n",
            "573/573 [==============================] - 1s 2ms/step - loss: 0.6087 - accuracy: 0.7610 - val_loss: 0.6637 - val_accuracy: 0.7586\n",
            "Epoch 32/50\n",
            "573/573 [==============================] - 1s 2ms/step - loss: 0.6083 - accuracy: 0.7616 - val_loss: 0.6627 - val_accuracy: 0.7586\n",
            "Epoch 33/50\n",
            "573/573 [==============================] - 1s 2ms/step - loss: 0.6085 - accuracy: 0.7628 - val_loss: 0.6603 - val_accuracy: 0.7575\n",
            "Epoch 34/50\n",
            "573/573 [==============================] - 1s 2ms/step - loss: 0.6080 - accuracy: 0.7618 - val_loss: 0.6569 - val_accuracy: 0.7603\n",
            "Epoch 35/50\n",
            "573/573 [==============================] - 2s 3ms/step - loss: 0.6079 - accuracy: 0.7621 - val_loss: 0.6636 - val_accuracy: 0.7592\n",
            "Epoch 36/50\n",
            "573/573 [==============================] - 1s 2ms/step - loss: 0.6075 - accuracy: 0.7617 - val_loss: 0.6619 - val_accuracy: 0.7579\n",
            "Epoch 37/50\n",
            "573/573 [==============================] - 1s 2ms/step - loss: 0.6077 - accuracy: 0.7627 - val_loss: 0.6564 - val_accuracy: 0.7592\n",
            "Epoch 38/50\n",
            "573/573 [==============================] - 1s 2ms/step - loss: 0.6068 - accuracy: 0.7623 - val_loss: 0.6642 - val_accuracy: 0.7597\n",
            "Epoch 39/50\n",
            "573/573 [==============================] - 1s 2ms/step - loss: 0.6068 - accuracy: 0.7612 - val_loss: 0.6571 - val_accuracy: 0.7586\n",
            "Epoch 40/50\n",
            "573/573 [==============================] - 1s 2ms/step - loss: 0.6067 - accuracy: 0.7621 - val_loss: 0.6553 - val_accuracy: 0.7588\n",
            "Epoch 41/50\n",
            "573/573 [==============================] - 1s 2ms/step - loss: 0.6069 - accuracy: 0.7622 - val_loss: 0.6588 - val_accuracy: 0.7583\n",
            "Epoch 42/50\n",
            "573/573 [==============================] - 1s 2ms/step - loss: 0.6064 - accuracy: 0.7630 - val_loss: 0.6670 - val_accuracy: 0.7588\n",
            "Epoch 43/50\n",
            "573/573 [==============================] - 1s 3ms/step - loss: 0.6067 - accuracy: 0.7625 - val_loss: 0.6647 - val_accuracy: 0.7597\n",
            "Epoch 44/50\n",
            "573/573 [==============================] - 2s 3ms/step - loss: 0.6066 - accuracy: 0.7632 - val_loss: 0.6586 - val_accuracy: 0.7586\n",
            "Epoch 45/50\n",
            "573/573 [==============================] - 1s 2ms/step - loss: 0.6063 - accuracy: 0.7627 - val_loss: 0.6561 - val_accuracy: 0.7573\n",
            "Epoch 46/50\n",
            "573/573 [==============================] - 1s 2ms/step - loss: 0.6065 - accuracy: 0.7629 - val_loss: 0.6606 - val_accuracy: 0.7564\n",
            "Epoch 47/50\n",
            "573/573 [==============================] - 1s 2ms/step - loss: 0.6057 - accuracy: 0.7623 - val_loss: 0.6570 - val_accuracy: 0.7588\n",
            "Epoch 48/50\n",
            "573/573 [==============================] - 1s 2ms/step - loss: 0.6061 - accuracy: 0.7625 - val_loss: 0.6598 - val_accuracy: 0.7570\n",
            "Epoch 49/50\n",
            "573/573 [==============================] - 1s 2ms/step - loss: 0.6060 - accuracy: 0.7635 - val_loss: 0.6598 - val_accuracy: 0.7590\n",
            "Epoch 50/50\n",
            "573/573 [==============================] - 1s 2ms/step - loss: 0.6056 - accuracy: 0.7623 - val_loss: 0.6589 - val_accuracy: 0.7597\n",
            "Model: \"sequential_1\"\n",
            "_________________________________________________________________\n",
            " Layer (type)                Output Shape              Param #   \n",
            "=================================================================\n",
            " dense_2 (Dense)             (None, 20)                660       \n",
            "                                                                 \n",
            " dense_3 (Dense)             (None, 3)                 63        \n",
            "                                                                 \n",
            "=================================================================\n",
            "Total params: 723\n",
            "Trainable params: 723\n",
            "Non-trainable params: 0\n",
            "_________________________________________________________________\n",
            "None\n"
          ]
        }
      ],
      "source": [
        "y_train = train_encoded_labels\n",
        "\n",
        "y_test = test_encoded_labels\n",
        "hidden_layer_nodes = 20\n",
        "num_of_input_features = X_train.shape[1]\n",
        "\n",
        "y_train_oh = to_categorical(y_train)\n",
        "y_test_oh = to_categorical(y_test)\n",
        "\n",
        "\n",
        "hidden_layer_nodes = 20\n",
        "num_of_input_features = X_train.shape[1]\n",
        "\n",
        "model=Sequential()\n",
        "model.add(layers.Input(shape=(num_of_input_features,)))\n",
        "model.add(layers.Dense(20, activation='relu'))\n",
        "model.add(layers.Dense(3, activation='sigmoid')) #is it clear why here we use \"sigmoid\" and use \"softmax\" for multi-class problems?\n",
        "learning_rate = 0.001\n",
        "model.compile(optimizer=tf.keras.optimizers.Adam(learning_rate=learning_rate),\n",
        "              loss=tf.keras.losses.CategoricalCrossentropy(),\n",
        "              metrics=['accuracy'])\n",
        "batch_size = 32\n",
        "epochs = 50\n",
        "validation_split = 0.2\n",
        "# compute class weights to counteract data imbalance\n",
        "\n",
        "# compute class weights to counteract data imbalance\n",
        "\n",
        "class_weights = class_weight.compute_class_weight(\n",
        "    class_weight= \"balanced\",\n",
        "    classes = np.unique(train_encoded_labels),\n",
        "    y = train_encoded_labels)\n",
        "\n",
        "# we turn the weights into a dictionary\n",
        "class_weights = dict(zip(np.unique(train_encoded_labels), class_weights))\n",
        "\n",
        "# Let's print the results\n",
        "# note that encoded label 0 corresponds to the original label 'N': there are fewer instances of 'N' so this class is given a higher weight in the loss function\n",
        "print(class_weights)\n",
        "\n",
        "\n",
        "history = model.fit(X_train,\n",
        "                    y_train_oh,\n",
        "                    epochs=epochs,\n",
        "                    batch_size=batch_size,\n",
        "                    validation_split= validation_split,\n",
        "                    class_weight= class_weights)\n",
        "\n",
        "print(model.summary())"
      ]
    },
    {
      "cell_type": "code",
      "execution_count": null,
      "metadata": {
        "colab": {
          "background_save": true
        },
        "id": "IleOHjhvr1Zl",
        "outputId": "c7b8f562-d716-4cdd-a994-d847d176ede8"
      },
      "outputs": [
        {
          "name": "stdout",
          "output_type": "stream",
          "text": [
            "{0: 1.6362337476782398, 1: 0.9066223330562483, 2: 0.777698550134121}\n",
            "Epoch 1/50\n",
            "573/573 [==============================] - 2s 3ms/step - loss: 0.7749 - accuracy: 0.6931 - val_loss: 0.6958 - val_accuracy: 0.7424\n",
            "Epoch 2/50\n",
            "573/573 [==============================] - 1s 2ms/step - loss: 0.6634 - accuracy: 0.7484 - val_loss: 0.6868 - val_accuracy: 0.7483\n",
            "Epoch 3/50\n",
            "573/573 [==============================] - 1s 2ms/step - loss: 0.6512 - accuracy: 0.7508 - val_loss: 0.6744 - val_accuracy: 0.7483\n",
            "Epoch 4/50\n",
            "573/573 [==============================] - 1s 2ms/step - loss: 0.6419 - accuracy: 0.7529 - val_loss: 0.6670 - val_accuracy: 0.7514\n",
            "Epoch 5/50\n",
            "573/573 [==============================] - 1s 2ms/step - loss: 0.6350 - accuracy: 0.7544 - val_loss: 0.6621 - val_accuracy: 0.7503\n",
            "Epoch 6/50\n",
            "573/573 [==============================] - 1s 2ms/step - loss: 0.6303 - accuracy: 0.7541 - val_loss: 0.6618 - val_accuracy: 0.7540\n",
            "Epoch 7/50\n",
            "573/573 [==============================] - 1s 2ms/step - loss: 0.6265 - accuracy: 0.7558 - val_loss: 0.6607 - val_accuracy: 0.7546\n",
            "Epoch 8/50\n",
            "573/573 [==============================] - 2s 3ms/step - loss: 0.6232 - accuracy: 0.7565 - val_loss: 0.6556 - val_accuracy: 0.7555\n",
            "Epoch 9/50\n",
            "573/573 [==============================] - 1s 3ms/step - loss: 0.6213 - accuracy: 0.7565 - val_loss: 0.6529 - val_accuracy: 0.7568\n",
            "Epoch 10/50\n",
            "573/573 [==============================] - 1s 2ms/step - loss: 0.6191 - accuracy: 0.7573 - val_loss: 0.6527 - val_accuracy: 0.7575\n",
            "Epoch 11/50\n",
            "573/573 [==============================] - 1s 2ms/step - loss: 0.6177 - accuracy: 0.7582 - val_loss: 0.6520 - val_accuracy: 0.7581\n",
            "Epoch 12/50\n",
            "573/573 [==============================] - 1s 2ms/step - loss: 0.6167 - accuracy: 0.7582 - val_loss: 0.6507 - val_accuracy: 0.7579\n",
            "Epoch 13/50\n",
            "573/573 [==============================] - 1s 2ms/step - loss: 0.6153 - accuracy: 0.7587 - val_loss: 0.6575 - val_accuracy: 0.7581\n",
            "Epoch 14/50\n",
            "573/573 [==============================] - 1s 2ms/step - loss: 0.6142 - accuracy: 0.7601 - val_loss: 0.6553 - val_accuracy: 0.7590\n",
            "Epoch 15/50\n",
            "573/573 [==============================] - 1s 2ms/step - loss: 0.6133 - accuracy: 0.7599 - val_loss: 0.6522 - val_accuracy: 0.7605\n",
            "Epoch 16/50\n",
            "573/573 [==============================] - 1s 2ms/step - loss: 0.6125 - accuracy: 0.7612 - val_loss: 0.6494 - val_accuracy: 0.7601\n",
            "Epoch 17/50\n",
            "573/573 [==============================] - 2s 3ms/step - loss: 0.6110 - accuracy: 0.7602 - val_loss: 0.6518 - val_accuracy: 0.7603\n",
            "Epoch 18/50\n",
            "573/573 [==============================] - 1s 3ms/step - loss: 0.6100 - accuracy: 0.7611 - val_loss: 0.6480 - val_accuracy: 0.7610\n",
            "Epoch 19/50\n",
            "573/573 [==============================] - 1s 2ms/step - loss: 0.6098 - accuracy: 0.7618 - val_loss: 0.6551 - val_accuracy: 0.7612\n",
            "Epoch 20/50\n",
            "573/573 [==============================] - 1s 2ms/step - loss: 0.6087 - accuracy: 0.7616 - val_loss: 0.6516 - val_accuracy: 0.7597\n",
            "Epoch 21/50\n",
            "573/573 [==============================] - 1s 2ms/step - loss: 0.6084 - accuracy: 0.7631 - val_loss: 0.6536 - val_accuracy: 0.7590\n",
            "Epoch 22/50\n",
            "573/573 [==============================] - 1s 2ms/step - loss: 0.6073 - accuracy: 0.7627 - val_loss: 0.6504 - val_accuracy: 0.7599\n",
            "Epoch 23/50\n",
            "573/573 [==============================] - 1s 2ms/step - loss: 0.6070 - accuracy: 0.7618 - val_loss: 0.6594 - val_accuracy: 0.7597\n",
            "Epoch 24/50\n",
            "573/573 [==============================] - 1s 2ms/step - loss: 0.6063 - accuracy: 0.7624 - val_loss: 0.6511 - val_accuracy: 0.7603\n",
            "Epoch 25/50\n",
            "573/573 [==============================] - 1s 2ms/step - loss: 0.6057 - accuracy: 0.7626 - val_loss: 0.6476 - val_accuracy: 0.7599\n",
            "Epoch 26/50\n",
            "573/573 [==============================] - 2s 3ms/step - loss: 0.6051 - accuracy: 0.7628 - val_loss: 0.6545 - val_accuracy: 0.7612\n",
            "Epoch 27/50\n",
            "573/573 [==============================] - 1s 2ms/step - loss: 0.6045 - accuracy: 0.7627 - val_loss: 0.6568 - val_accuracy: 0.7597\n",
            "Epoch 28/50\n",
            "573/573 [==============================] - 1s 2ms/step - loss: 0.6037 - accuracy: 0.7634 - val_loss: 0.6446 - val_accuracy: 0.7608\n",
            "Epoch 29/50\n",
            "573/573 [==============================] - 1s 2ms/step - loss: 0.6037 - accuracy: 0.7634 - val_loss: 0.6483 - val_accuracy: 0.7590\n",
            "Epoch 30/50\n",
            "573/573 [==============================] - 1s 2ms/step - loss: 0.6032 - accuracy: 0.7627 - val_loss: 0.6439 - val_accuracy: 0.7605\n",
            "Epoch 31/50\n",
            "573/573 [==============================] - 1s 2ms/step - loss: 0.6025 - accuracy: 0.7630 - val_loss: 0.6546 - val_accuracy: 0.7603\n",
            "Epoch 32/50\n",
            "573/573 [==============================] - 1s 2ms/step - loss: 0.6019 - accuracy: 0.7642 - val_loss: 0.6555 - val_accuracy: 0.7612\n",
            "Epoch 33/50\n",
            "573/573 [==============================] - 1s 2ms/step - loss: 0.6015 - accuracy: 0.7636 - val_loss: 0.6542 - val_accuracy: 0.7605\n",
            "Epoch 34/50\n",
            "573/573 [==============================] - 1s 2ms/step - loss: 0.6015 - accuracy: 0.7641 - val_loss: 0.6453 - val_accuracy: 0.7608\n",
            "Epoch 35/50\n",
            "573/573 [==============================] - 1s 2ms/step - loss: 0.6010 - accuracy: 0.7640 - val_loss: 0.6469 - val_accuracy: 0.7594\n",
            "Epoch 36/50\n",
            "573/573 [==============================] - 2s 3ms/step - loss: 0.6003 - accuracy: 0.7638 - val_loss: 0.6461 - val_accuracy: 0.7616\n",
            "Epoch 37/50\n",
            "573/573 [==============================] - 1s 2ms/step - loss: 0.6007 - accuracy: 0.7647 - val_loss: 0.6522 - val_accuracy: 0.7621\n",
            "Epoch 38/50\n",
            "573/573 [==============================] - 1s 2ms/step - loss: 0.5999 - accuracy: 0.7640 - val_loss: 0.6503 - val_accuracy: 0.7592\n",
            "Epoch 39/50\n",
            "573/573 [==============================] - 1s 2ms/step - loss: 0.5999 - accuracy: 0.7636 - val_loss: 0.6406 - val_accuracy: 0.7601\n",
            "Epoch 40/50\n",
            "573/573 [==============================] - 1s 2ms/step - loss: 0.6001 - accuracy: 0.7641 - val_loss: 0.6445 - val_accuracy: 0.7610\n",
            "Epoch 41/50\n",
            "573/573 [==============================] - 1s 2ms/step - loss: 0.5991 - accuracy: 0.7639 - val_loss: 0.6470 - val_accuracy: 0.7621\n",
            "Epoch 42/50\n",
            "573/573 [==============================] - 1s 2ms/step - loss: 0.5993 - accuracy: 0.7643 - val_loss: 0.6547 - val_accuracy: 0.7625\n",
            "Epoch 43/50\n",
            "573/573 [==============================] - 1s 2ms/step - loss: 0.5987 - accuracy: 0.7638 - val_loss: 0.6459 - val_accuracy: 0.7621\n",
            "Epoch 44/50\n",
            "573/573 [==============================] - 1s 2ms/step - loss: 0.5986 - accuracy: 0.7647 - val_loss: 0.6516 - val_accuracy: 0.7621\n",
            "Epoch 45/50\n",
            "573/573 [==============================] - 2s 3ms/step - loss: 0.5981 - accuracy: 0.7647 - val_loss: 0.6508 - val_accuracy: 0.7601\n",
            "Epoch 46/50\n",
            "573/573 [==============================] - 1s 2ms/step - loss: 0.5978 - accuracy: 0.7644 - val_loss: 0.6491 - val_accuracy: 0.7599\n",
            "Epoch 47/50\n",
            "573/573 [==============================] - 1s 2ms/step - loss: 0.5977 - accuracy: 0.7650 - val_loss: 0.6534 - val_accuracy: 0.7605\n",
            "Epoch 48/50\n",
            "573/573 [==============================] - 1s 2ms/step - loss: 0.5972 - accuracy: 0.7652 - val_loss: 0.6545 - val_accuracy: 0.7608\n",
            "Epoch 49/50\n",
            "573/573 [==============================] - 1s 2ms/step - loss: 0.5974 - accuracy: 0.7649 - val_loss: 0.6553 - val_accuracy: 0.7599\n",
            "Epoch 50/50\n",
            "573/573 [==============================] - 1s 2ms/step - loss: 0.5975 - accuracy: 0.7644 - val_loss: 0.6609 - val_accuracy: 0.7610\n",
            "Model: \"sequential_2\"\n",
            "_________________________________________________________________\n",
            " Layer (type)                Output Shape              Param #   \n",
            "=================================================================\n",
            " dense_4 (Dense)             (None, 20)                660       \n",
            "                                                                 \n",
            " dense_5 (Dense)             (None, 3)                 63        \n",
            "                                                                 \n",
            "=================================================================\n",
            "Total params: 723\n",
            "Trainable params: 723\n",
            "Non-trainable params: 0\n",
            "_________________________________________________________________\n",
            "None\n"
          ]
        }
      ],
      "source": [
        "y_train = train_encoded_labels\n",
        "\n",
        "y_test = test_encoded_labels\n",
        "hidden_layer_nodes = 20\n",
        "num_of_input_features = X_train.shape[1]\n",
        "\n",
        "y_train_oh = to_categorical(y_train)\n",
        "y_test_oh = to_categorical(y_test)\n",
        "\n",
        "\n",
        "hidden_layer_nodes = 20\n",
        "num_of_input_features = X_train.shape[1]\n",
        "\n",
        "model=Sequential()\n",
        "model.add(layers.Input(shape=(num_of_input_features,)))\n",
        "model.add(layers.Dense(20, activation='tanh'))\n",
        "model.add(layers.Dense(3, activation='softmax')) #is it clear why here we use \"sigmoid\" and use \"softmax\" for multi-class problems?\n",
        "learning_rate = 0.001\n",
        "model.compile(optimizer=tf.keras.optimizers.Adam(learning_rate=learning_rate),\n",
        "              loss=tf.keras.losses.CategoricalCrossentropy(),\n",
        "              metrics=['accuracy'])\n",
        "batch_size = 32\n",
        "epochs = 50\n",
        "validation_split = 0.2\n",
        "# compute class weights to counteract data imbalance\n",
        "\n",
        "# compute class weights to counteract data imbalance\n",
        "\n",
        "class_weights = class_weight.compute_class_weight(\n",
        "    class_weight= \"balanced\",\n",
        "    classes = np.unique(train_encoded_labels),\n",
        "    y = train_encoded_labels)\n",
        "\n",
        "# we turn the weights into a dictionary\n",
        "class_weights = dict(zip(np.unique(train_encoded_labels), class_weights))\n",
        "\n",
        "# Let's print the results\n",
        "# note that encoded label 0 corresponds to the original label 'N': there are fewer instances of 'N' so this class is given a higher weight in the loss function\n",
        "print(class_weights)\n",
        "\n",
        "\n",
        "history = model.fit(X_train,\n",
        "                    y_train_oh,\n",
        "                    epochs=epochs,\n",
        "                    batch_size=batch_size,\n",
        "                    validation_split= validation_split,\n",
        "                    class_weight= class_weights)\n",
        "\n",
        "print(model.summary())"
      ]
    },
    {
      "cell_type": "code",
      "execution_count": null,
      "metadata": {
        "colab": {
          "background_save": true
        },
        "id": "q9YjXY59uJmN",
        "outputId": "a97d8894-30bd-4238-a3bf-368f7d274cdf"
      },
      "outputs": [
        {
          "data": {
            "image/png": "[encoded data removed]",
            "text/plain": [
              "<Figure size 640x480 with 1 Axes>"
            ]
          },
          "metadata": {},
          "output_type": "display_data"
        },
        {
          "data": {
            "image/png": "[encoded data removed]",
            "text/plain": [
              "<Figure size 640x480 with 1 Axes>"
            ]
          },
          "metadata": {},
          "output_type": "display_data"
        }
      ],
      "source": [
        "import matplotlib.pyplot as plt\n",
        "\n",
        "# plot training and validation accuracy over epochs\n",
        "plt.plot(history.history['accuracy'])\n",
        "plt.plot(history.history['val_accuracy'])\n",
        "plt.title('Model accuracy')\n",
        "plt.ylabel('Accuracy')\n",
        "plt.xlabel('Epoch')\n",
        "plt.legend(['Train', 'Val'], loc='upper left')\n",
        "plt.show()\n",
        "\n",
        "# plot training and validation loss over epochs\n",
        "plt.plot(history.history['loss'])\n",
        "plt.plot(history.history['val_loss'])\n",
        "plt.title('Model loss')\n",
        "plt.ylabel('Loss')\n",
        "plt.xlabel('Epoch')\n",
        "plt.legend(['Train', 'Val'], loc='upper left')\n",
        "plt.show()\n"
      ]
    },
    {
      "cell_type": "code",
      "execution_count": null,
      "metadata": {
        "colab": {
          "background_save": true
        },
        "id": "U0GkmxwXtB9U",
        "outputId": "7bb0b869-a860-48f4-c718-e6b64bb8568a"
      },
      "outputs": [
        {
          "name": "stdout",
          "output_type": "stream",
          "text": [
            "179/179 [==============================] - 0s 1ms/step\n",
            "Confusion matrix:\n",
            "[[1036   39   33]\n",
            " [ 387 1511  240]\n",
            " [ 344  334 1803]]\n",
            "Precision: 0.7522728552730499\n",
            "Recall: 0.7894921375572723\n"
          ]
        }
      ],
      "source": [
        "from sklearn.metrics import confusion_matrix, precision_score, recall_score\n",
        "\n",
        "# make predictions on the test set\n",
        "y_pred = model.predict(X_test)\n",
        "\n",
        "# convert predicted probabilities to predicted labels\n",
        "y_pred_labels = np.argmax(y_pred, axis=1)\n",
        "\n",
        "# create confusion matrix\n",
        "cm = confusion_matrix(y_test, y_pred_labels)\n",
        "print(\"Confusion matrix:\")\n",
        "print(cm)\n",
        "\n",
        "# calculate precision and recall\n",
        "precision = precision_score(y_test, y_pred_labels, average='macro')\n",
        "recall = recall_score(y_test, y_pred_labels, average='macro')\n",
        "print(\"Precision:\", precision)\n",
        "print(\"Recall:\", recall)\n"
      ]
    },
    {
      "cell_type": "code",
      "execution_count": null,
      "metadata": {
        "colab": {
          "background_save": true
        },
        "id": "nfYvyLestgD4",
        "outputId": "4b4a0ea2-eade-42f6-c3a8-e6c6b56184ad"
      },
      "outputs": [
        {
          "name": "stdout",
          "output_type": "stream",
          "text": [
            "179/179 [==============================] - 0s 1ms/step\n",
            "Random Guess Accuracy: 0.3304\n",
            "Model Accuracy: 0.7596\n"
          ]
        }
      ],
      "source": [
        "import numpy as np\n",
        "\n",
        "# create a random guess classifier\n",
        "class RandomGuess:\n",
        "    def __init__(self, num_classes):\n",
        "        self.num_classes = num_classes\n",
        "\n",
        "    def predict(self, X):\n",
        "        return np.random.randint(self.num_classes, size=X.shape[0])\n",
        "\n",
        "# evaluate the random guess classifier\n",
        "rg = RandomGuess(num_classes=3)\n",
        "rg_pred = rg.predict(X_test)\n",
        "rg_acc = accuracy_score(y_test, rg_pred)\n",
        "\n",
        "# evaluate the model performance\n",
        "model_pred = np.argmax(model.predict(X_test), axis=1)\n",
        "model_acc = accuracy_score(y_test, model_pred)\n",
        "\n",
        "# print the results\n",
        "print(f\"Random Guess Accuracy: {rg_acc:.4f}\")\n",
        "print(f\"Model Accuracy: {model_acc:.4f}\")\n"
      ]
    }
  ],
  "metadata": {
    "colab": {
      "toc_visible": true,
      "provenance": [],
      "include_colab_link": true
    },
    "kernelspec": {
      "display_name": "Python 3",
      "name": "python3"
    },
    "language_info": {
      "name": "python"
    }
  },
  "nbformat": 4,
  "nbformat_minor": 0
}